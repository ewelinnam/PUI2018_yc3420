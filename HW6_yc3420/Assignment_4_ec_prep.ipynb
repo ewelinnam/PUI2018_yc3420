{
 "cells": [
  {
   "cell_type": "markdown",
   "metadata": {},
   "source": [
    "## Problem 2: age of bikers for trips originating in Manhattan and in Brooklyn (extra credit)"
   ]
  },
  {
   "cell_type": "markdown",
   "metadata": {},
   "source": [
    "H0: There is no statistical difference in the age of bikers in Manhattan and Brooklyn"
   ]
  },
  {
   "cell_type": "code",
   "execution_count": null,
   "metadata": {},
   "outputs": [],
   "source": []
  },
  {
   "cell_type": "code",
   "execution_count": 15,
   "metadata": {},
   "outputs": [],
   "source": [
    "import geopandas as gpd\n",
    "from geopandas.tools import sjoin\n",
    "import os\n",
    "import urllib\n",
    "import zipfile"
   ]
  },
  {
   "cell_type": "code",
   "execution_count": 4,
   "metadata": {},
   "outputs": [
    {
     "data": {
      "text/plain": [
       "'/nfshome/yc3420/PUIdata'"
      ]
     },
     "execution_count": 4,
     "metadata": {},
     "output_type": "execute_result"
    }
   ],
   "source": [
    "os.getenv(\"PUIDATA\")\n"
   ]
  },
  {
   "cell_type": "code",
   "execution_count": 10,
   "metadata": {},
   "outputs": [
    {
     "data": {
      "text/plain": [
       "('citibike.gz', <http.client.HTTPMessage at 0x7f31f9140e80>)"
      ]
     },
     "execution_count": 10,
     "metadata": {},
     "output_type": "execute_result"
    }
   ],
   "source": [
    "#download the citibike points\n",
    "urllib.request.urlretrieve('https://groups.google.com/group/citibike-hackers/attach/40652142efe7527a/CitiBike_Shp_042014.zip?part=0.1&authuser=0&view=1','citibike.gz')"
   ]
  },
  {
   "cell_type": "code",
   "execution_count": 11,
   "metadata": {},
   "outputs": [
    {
     "data": {
      "text/plain": [
       "('boro.gz', <http.client.HTTPMessage at 0x7f31f9140748>)"
      ]
     },
     "execution_count": 11,
     "metadata": {},
     "output_type": "execute_result"
    }
   ],
   "source": [
    "#download the borough shp\n",
    "urllib.request.urlretrieve('https://data.cityofnewyork.us/api/geospatial/tqmj-j8zm?method=export&format=Shapefile', 'boro.gz')"
   ]
  },
  {
   "cell_type": "code",
   "execution_count": 12,
   "metadata": {},
   "outputs": [
    {
     "name": "stdout",
     "output_type": "stream",
     "text": [
      "1p\t\t\t\t      borough.csv\t\t PUMA\r\n",
      "201502-citibike-tripdata.csv\t      citibike.gz\t\t PUMA.gz\r\n",
      "201502-citibike-tripdata.zip\t      drinking_water_quaity.csv  rows.csv\r\n",
      "201503-citibike-tripdata.csv\t      GCT2801.csv\t\t solution3.csv\r\n",
      "201503-citibike-tripdata.zip\t      linkNYClocations.csv\t solution6.csv\r\n",
      "201508-citibike-tripdata.csv\t      nyc_pluto_18v1.zip\t solution.csv\r\n",
      "201508-citibike-tripdata.zip\t      Parks.csv\t\t\t time.csv\r\n",
      "ACS_16_1YR_GCT2801.ST50_with_ann.csv  parkToPuma.csv\t\t ZIP\r\n",
      "boro.gz\t\t\t\t      PLUTO_for_WEB\t\t ZIPCODE.gz\r\n"
     ]
    }
   ],
   "source": [
    "!mv citibike.gz $PUIDATA\n",
    "!mv boro.gz $PUIDATA\n",
    "!ls $PUIDATA"
   ]
  },
  {
   "cell_type": "code",
   "execution_count": 25,
   "metadata": {},
   "outputs": [],
   "source": [
    "#unzip citibike\n",
    "zipref = zipfile.ZipFile(os.getenv(\"PUIDATA\") + '/citibike.gz' , 'r')\n",
    "zipref.extractall(os.getenv(\"PUIDATA\") + '/citibike')\n",
    "zipref.close()"
   ]
  },
  {
   "cell_type": "code",
   "execution_count": 26,
   "metadata": {},
   "outputs": [],
   "source": [
    "#unzip boro\n",
    "zipref = zipfile.ZipFile(os.getenv(\"PUIDATA\") + '/boro.gz' , 'r')\n",
    "zipref.extractall(os.getenv(\"PUIDATA\") + '/boro')\n",
    "zipref.close()"
   ]
  },
  {
   "cell_type": "code",
   "execution_count": 28,
   "metadata": {},
   "outputs": [
    {
     "name": "stdout",
     "output_type": "stream",
     "text": [
      "['CitiBike_WGS84.sbx', 'CitiBike_WGS84.prj', 'CitiBike_StPln.dbf', 'CitiBike_StPln.prj', 'CitiBike_WGS84.shp', 'CitiBike_WGS84.sbn', 'CitiBike_StPln.sbx', 'CitiBike_WGS84.shx', 'CitiBike_StPln.sbn', 'CitiBike_StPln.shp', 'CitiBike_StPln.shx', 'CitiBike_WGS84.dbf']\n"
     ]
    }
   ],
   "source": [
    "#get citibike shp name\n",
    "path1 = os.getenv(\"PUIDATA\") + '/citibike'\n",
    "namelist1 = os.listdir(path1)\n",
    "print (namelist1)"
   ]
  },
  {
   "cell_type": "code",
   "execution_count": 29,
   "metadata": {},
   "outputs": [
    {
     "name": "stdout",
     "output_type": "stream",
     "text": [
      "['geo_export_84316d07-d785-4776-96b6-d34114abb0f7.dbf', 'geo_export_84316d07-d785-4776-96b6-d34114abb0f7.shp', 'geo_export_84316d07-d785-4776-96b6-d34114abb0f7.shx', 'geo_export_84316d07-d785-4776-96b6-d34114abb0f7.prj']\n"
     ]
    }
   ],
   "source": [
    "#get boro shp name\n",
    "path2 = os.getenv(\"PUIDATA\") + '/boro'\n",
    "namelist2 = os.listdir(path2)\n",
    "print (namelist2)"
   ]
  },
  {
   "cell_type": "code",
   "execution_count": 32,
   "metadata": {},
   "outputs": [],
   "source": [
    "shape_p = gpd.GeoDataFrame.from_file(path1 + \"/CitiBike_WGS84.shp\")\n",
    "shape_b = gpd.GeoDataFrame.from_file(path2 + \"/geo_export_84316d07-d785-4776-96b6-d34114abb0f7.shp\")"
   ]
  },
  {
   "cell_type": "code",
   "execution_count": null,
   "metadata": {},
   "outputs": [],
   "source": []
  },
  {
   "cell_type": "code",
   "execution_count": null,
   "metadata": {},
   "outputs": [],
   "source": []
  },
  {
   "cell_type": "code",
   "execution_count": 33,
   "metadata": {},
   "outputs": [],
   "source": [
    "pointInPolys = sjoin(shape_p,shape_b, how='left')"
   ]
  },
  {
   "cell_type": "code",
   "execution_count": 34,
   "metadata": {},
   "outputs": [
    {
     "data": {
      "text/plain": [
       "Index(['ID', 'Latitude', 'StatusKey', 'Longitude', 'Address', 'Docks',\n",
       "       'TestStatio', 'Service', 'StationNam', 'AvailDocks', 'AvailBikes',\n",
       "       'LastComm', 'Loc', 'Address2', 'geometry', 'index_right', 'boro_code',\n",
       "       'boro_name', 'shape_area', 'shape_leng'],\n",
       "      dtype='object')"
      ]
     },
     "execution_count": 34,
     "metadata": {},
     "output_type": "execute_result"
    }
   ],
   "source": [
    "pointInPolys.columns"
   ]
  },
  {
   "cell_type": "code",
   "execution_count": 35,
   "metadata": {},
   "outputs": [],
   "source": [
    "pointInPolys = pointInPolys.drop(['ID', 'StatusKey', 'Address', 'Docks',\n",
    "       'TestStatio', 'Service', 'AvailDocks', 'AvailBikes',\n",
    "       'LastComm', 'Loc', 'Address2', 'geometry', 'index_right', 'shape_area', 'shape_leng'], axis = 1)"
   ]
  },
  {
   "cell_type": "code",
   "execution_count": 36,
   "metadata": {},
   "outputs": [
    {
     "data": {
      "text/html": [
       "<div>\n",
       "<table border=\"1\" class=\"dataframe\">\n",
       "  <thead>\n",
       "    <tr style=\"text-align: right;\">\n",
       "      <th></th>\n",
       "      <th>Latitude</th>\n",
       "      <th>Longitude</th>\n",
       "      <th>StationNam</th>\n",
       "      <th>boro_code</th>\n",
       "      <th>boro_name</th>\n",
       "    </tr>\n",
       "  </thead>\n",
       "  <tbody>\n",
       "    <tr>\n",
       "      <th>0</th>\n",
       "      <td>40.767272</td>\n",
       "      <td>-73.993929</td>\n",
       "      <td>W 52 St &amp; 11 Ave</td>\n",
       "      <td>1.0</td>\n",
       "      <td>Manhattan</td>\n",
       "    </tr>\n",
       "    <tr>\n",
       "      <th>1</th>\n",
       "      <td>40.719116</td>\n",
       "      <td>-74.006667</td>\n",
       "      <td>Franklin St &amp; W Broadway</td>\n",
       "      <td>1.0</td>\n",
       "      <td>Manhattan</td>\n",
       "    </tr>\n",
       "    <tr>\n",
       "      <th>2</th>\n",
       "      <td>40.711174</td>\n",
       "      <td>-74.000165</td>\n",
       "      <td>St James Pl &amp; Pearl St</td>\n",
       "      <td>1.0</td>\n",
       "      <td>Manhattan</td>\n",
       "    </tr>\n",
       "    <tr>\n",
       "      <th>3</th>\n",
       "      <td>40.683826</td>\n",
       "      <td>-73.976323</td>\n",
       "      <td>Atlantic Ave &amp; Fort Greene Pl</td>\n",
       "      <td>3.0</td>\n",
       "      <td>Brooklyn</td>\n",
       "    </tr>\n",
       "    <tr>\n",
       "      <th>4</th>\n",
       "      <td>40.741776</td>\n",
       "      <td>-74.001497</td>\n",
       "      <td>W 17 St &amp; 8 Ave</td>\n",
       "      <td>1.0</td>\n",
       "      <td>Manhattan</td>\n",
       "    </tr>\n",
       "  </tbody>\n",
       "</table>\n",
       "</div>"
      ],
      "text/plain": [
       "    Latitude  Longitude                     StationNam  boro_code  boro_name\n",
       "0  40.767272 -73.993929               W 52 St & 11 Ave        1.0  Manhattan\n",
       "1  40.719116 -74.006667       Franklin St & W Broadway        1.0  Manhattan\n",
       "2  40.711174 -74.000165         St James Pl & Pearl St        1.0  Manhattan\n",
       "3  40.683826 -73.976323  Atlantic Ave & Fort Greene Pl        3.0   Brooklyn\n",
       "4  40.741776 -74.001497                W 17 St & 8 Ave        1.0  Manhattan"
      ]
     },
     "execution_count": 36,
     "metadata": {},
     "output_type": "execute_result"
    }
   ],
   "source": [
    "pointInPolys.head()"
   ]
  },
  {
   "cell_type": "code",
   "execution_count": 37,
   "metadata": {},
   "outputs": [],
   "source": [
    "file_path = \"%s/borough.csv\"%os.getenv(\"PUIDATA\")\n",
    "pointInPolys.to_csv(file_path, index = None, header=True)"
   ]
  },
  {
   "cell_type": "code",
   "execution_count": 38,
   "metadata": {},
   "outputs": [
    {
     "name": "stdout",
     "output_type": "stream",
     "text": [
      "1p\t\t\t\t      borough.csv\t\t PUMA\r\n",
      "201502-citibike-tripdata.csv\t      citibike\t\t\t PUMA.gz\r\n",
      "201502-citibike-tripdata.zip\t      citibike.gz\t\t rows.csv\r\n",
      "201503-citibike-tripdata.csv\t      drinking_water_quaity.csv  solution3.csv\r\n",
      "201503-citibike-tripdata.zip\t      GCT2801.csv\t\t solution6.csv\r\n",
      "201508-citibike-tripdata.csv\t      linkNYClocations.csv\t solution.csv\r\n",
      "201508-citibike-tripdata.zip\t      nyc_pluto_18v1.zip\t time.csv\r\n",
      "ACS_16_1YR_GCT2801.ST50_with_ann.csv  Parks.csv\t\t\t ZIP\r\n",
      "boro\t\t\t\t      parkToPuma.csv\t\t ZIPCODE.gz\r\n",
      "boro.gz\t\t\t\t      PLUTO_for_WEB\r\n"
     ]
    }
   ],
   "source": [
    "!ls $PUIDATA"
   ]
  },
  {
   "cell_type": "code",
   "execution_count": null,
   "metadata": {},
   "outputs": [],
   "source": []
  },
  {
   "cell_type": "code",
   "execution_count": null,
   "metadata": {},
   "outputs": [],
   "source": []
  }
 ],
 "metadata": {
  "kernelspec": {
   "display_name": "PUI2016_Python3",
   "language": "python",
   "name": "pui2016_python3"
  },
  "language_info": {
   "codemirror_mode": {
    "name": "ipython",
    "version": 3
   },
   "file_extension": ".py",
   "mimetype": "text/x-python",
   "name": "python",
   "nbconvert_exporter": "python",
   "pygments_lexer": "ipython3",
   "version": "3.5.4"
  }
 },
 "nbformat": 4,
 "nbformat_minor": 2
}
