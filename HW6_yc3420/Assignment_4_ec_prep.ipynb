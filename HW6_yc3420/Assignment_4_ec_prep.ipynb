{
 "cells": [
  {
   "cell_type": "markdown",
   "metadata": {},
   "source": [
    "## Problem 2: age of bikers for trips originating in Manhattan and in Brooklyn (extra credit)"
   ]
  },
  {
   "cell_type": "markdown",
   "metadata": {},
   "source": [
    "H0: There is no statistical difference in the age of bikers in Manhattan and Brooklyn"
   ]
  },
  {
   "cell_type": "code",
   "execution_count": 3,
   "metadata": {},
   "outputs": [],
   "source": [
    "import geopandas as gpd\n",
    "from geopandas.tools import sjoin\n",
    "import os\n",
    "shape_p = gpd.GeoDataFrame.from_file(\"CitiBike_WGS84.shp\")\n",
    "shape_b = gpd.GeoDataFrame.from_file(\"geo_export_fb061c37-2dc4-41fb-94f0-cc7e876d4c4e.shp\")"
   ]
  },
  {
   "cell_type": "code",
   "execution_count": 4,
   "metadata": {},
   "outputs": [],
   "source": [
    "pointInPolys = sjoin(shape_p,shape_b, how='left')"
   ]
  },
  {
   "cell_type": "code",
   "execution_count": 5,
   "metadata": {},
   "outputs": [
    {
     "data": {
      "text/plain": [
       "Index(['ID', 'Latitude', 'StatusKey', 'Longitude', 'Address', 'Docks',\n",
       "       'TestStatio', 'Service', 'StationNam', 'AvailDocks', 'AvailBikes',\n",
       "       'LastComm', 'Loc', 'Address2', 'geometry', 'index_right', 'boro_code',\n",
       "       'boro_name', 'shape_area', 'shape_leng'],\n",
       "      dtype='object')"
      ]
     },
     "execution_count": 5,
     "metadata": {},
     "output_type": "execute_result"
    }
   ],
   "source": [
    "pointInPolys.columns"
   ]
  },
  {
   "cell_type": "code",
   "execution_count": 6,
   "metadata": {},
   "outputs": [],
   "source": [
    "pointInPolys = pointInPolys.drop(['ID', 'StatusKey', 'Address', 'Docks',\n",
    "       'TestStatio', 'Service', 'AvailDocks', 'AvailBikes',\n",
    "       'LastComm', 'Loc', 'Address2', 'geometry', 'index_right', 'shape_area', 'shape_leng'], axis = 1)"
   ]
  },
  {
   "cell_type": "code",
   "execution_count": 7,
   "metadata": {},
   "outputs": [
    {
     "data": {
      "text/html": [
       "<div>\n",
       "<table border=\"1\" class=\"dataframe\">\n",
       "  <thead>\n",
       "    <tr style=\"text-align: right;\">\n",
       "      <th></th>\n",
       "      <th>Latitude</th>\n",
       "      <th>Longitude</th>\n",
       "      <th>StationNam</th>\n",
       "      <th>boro_code</th>\n",
       "      <th>boro_name</th>\n",
       "    </tr>\n",
       "  </thead>\n",
       "  <tbody>\n",
       "    <tr>\n",
       "      <th>0</th>\n",
       "      <td>40.767272</td>\n",
       "      <td>-73.993929</td>\n",
       "      <td>W 52 St &amp; 11 Ave</td>\n",
       "      <td>1.0</td>\n",
       "      <td>Manhattan</td>\n",
       "    </tr>\n",
       "    <tr>\n",
       "      <th>1</th>\n",
       "      <td>40.719116</td>\n",
       "      <td>-74.006667</td>\n",
       "      <td>Franklin St &amp; W Broadway</td>\n",
       "      <td>1.0</td>\n",
       "      <td>Manhattan</td>\n",
       "    </tr>\n",
       "    <tr>\n",
       "      <th>2</th>\n",
       "      <td>40.711174</td>\n",
       "      <td>-74.000165</td>\n",
       "      <td>St James Pl &amp; Pearl St</td>\n",
       "      <td>1.0</td>\n",
       "      <td>Manhattan</td>\n",
       "    </tr>\n",
       "    <tr>\n",
       "      <th>3</th>\n",
       "      <td>40.683826</td>\n",
       "      <td>-73.976323</td>\n",
       "      <td>Atlantic Ave &amp; Fort Greene Pl</td>\n",
       "      <td>3.0</td>\n",
       "      <td>Brooklyn</td>\n",
       "    </tr>\n",
       "    <tr>\n",
       "      <th>4</th>\n",
       "      <td>40.741776</td>\n",
       "      <td>-74.001497</td>\n",
       "      <td>W 17 St &amp; 8 Ave</td>\n",
       "      <td>1.0</td>\n",
       "      <td>Manhattan</td>\n",
       "    </tr>\n",
       "  </tbody>\n",
       "</table>\n",
       "</div>"
      ],
      "text/plain": [
       "    Latitude  Longitude                     StationNam  boro_code  boro_name\n",
       "0  40.767272 -73.993929               W 52 St & 11 Ave        1.0  Manhattan\n",
       "1  40.719116 -74.006667       Franklin St & W Broadway        1.0  Manhattan\n",
       "2  40.711174 -74.000165         St James Pl & Pearl St        1.0  Manhattan\n",
       "3  40.683826 -73.976323  Atlantic Ave & Fort Greene Pl        3.0   Brooklyn\n",
       "4  40.741776 -74.001497                W 17 St & 8 Ave        1.0  Manhattan"
      ]
     },
     "execution_count": 7,
     "metadata": {},
     "output_type": "execute_result"
    }
   ],
   "source": [
    "pointInPolys.head()"
   ]
  },
  {
   "cell_type": "code",
   "execution_count": 8,
   "metadata": {},
   "outputs": [],
   "source": [
    "file_path = \"%s/borough.csv\"%os.getenv(\"PUIDATA\")\n",
    "pointInPolys.to_csv(file_path, index = None, header=True)"
   ]
  },
  {
   "cell_type": "code",
   "execution_count": 9,
   "metadata": {},
   "outputs": [
    {
     "name": "stdout",
     "output_type": "stream",
     "text": [
      "201502-citibike-tripdata.csv  201508-citibike-tripdata.csv  nyc_pluto_18v1.zip\r\n",
      "201502-citibike-tripdata.zip  201508-citibike-tripdata.zip  PLUTO_for_WEB\r\n",
      "201503-citibike-tripdata.csv  borough.csv\t\t    time.csv\r\n",
      "201503-citibike-tripdata.zip  drinking_water_quaity.csv\r\n"
     ]
    }
   ],
   "source": [
    "!ls $PUIDATA"
   ]
  },
  {
   "cell_type": "code",
   "execution_count": null,
   "metadata": {},
   "outputs": [],
   "source": []
  },
  {
   "cell_type": "code",
   "execution_count": null,
   "metadata": {},
   "outputs": [],
   "source": []
  }
 ],
 "metadata": {
  "kernelspec": {
   "display_name": "PUI2016_Python3",
   "language": "python",
   "name": "pui2016_python3"
  },
  "language_info": {
   "codemirror_mode": {
    "name": "ipython",
    "version": 3
   },
   "file_extension": ".py",
   "mimetype": "text/x-python",
   "name": "python",
   "nbconvert_exporter": "python",
   "pygments_lexer": "ipython3",
   "version": "3.5.4"
  }
 },
 "nbformat": 4,
 "nbformat_minor": 2
}
