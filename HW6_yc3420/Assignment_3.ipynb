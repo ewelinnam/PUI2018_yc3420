{
 "cells": [
  {
   "cell_type": "markdown",
   "metadata": {
    "run_control": {
     "frozen": false,
     "read_only": false
    }
   },
   "source": [
    "\n",
    "August 2015  \n",
    "Modified September 2017, October 2018\n",
    "\n",
    "Author: FBB\n",
    "\n",
    "** reproduce the result in **\n",
    "http://www.mdrc.org/sites/default/files/What%20Strategies%20Work%20for%20the%20Hard%20FR.pdf \n",
    "\n",
    "\n",
    "# This is Yunhe Cui's HW6-Assignment 3"
   ]
  },
  {
   "cell_type": "code",
   "execution_count": 1,
   "metadata": {
    "ExecuteTime": {
     "end_time": "2018-10-03T03:56:25.982146Z",
     "start_time": "2018-10-03T03:56:24.071017Z"
    },
    "run_control": {
     "frozen": false,
     "read_only": false
    }
   },
   "outputs": [
    {
     "name": "stdout",
     "output_type": "stream",
     "text": [
      "Populating the interactive namespace from numpy and matplotlib\n"
     ]
    }
   ],
   "source": [
    "import os\n",
    "import sys\n",
    "import numpy as np\n",
    "import pylab as pl\n",
    "\n",
    "%pylab inline\n",
    "\n",
    "#from IPython.display import Image\n",
    "#Image(filename='../plotsforclasses/NYCReentryprogram_title.png')\n",
    "\n"
   ]
  },
  {
   "cell_type": "code",
   "execution_count": 2,
   "metadata": {
    "ExecuteTime": {
     "end_time": "2018-10-03T03:56:26.163401Z",
     "start_time": "2018-10-03T03:56:26.000064Z"
    },
    "run_control": {
     "frozen": false,
     "read_only": false
    }
   },
   "outputs": [],
   "source": [
    "#Image(filename='../plotsforclasses/NYCReentryprogram.png')"
   ]
  },
  {
   "cell_type": "markdown",
   "metadata": {
    "run_control": {
     "frozen": false,
     "read_only": false
    }
   },
   "source": [
    "# NULL HYPOTHESIS: the % of former prisoners employed after release is the same or lower for candidates who participated in the program as for the control group, significance level p=0.05"
   ]
  },
  {
   "cell_type": "markdown",
   "metadata": {
    "run_control": {
     "frozen": false,
     "read_only": false
    }
   },
   "source": [
    "** $H_0: P_0 - P_1 \\geq$    0 **\n",
    "    \n",
    "** $H_a: P_0 - P_1 $< 0    **\n",
    "    \n",
    "    \n",
    "** $\\alpha$ = 0.05    **\n",
    "\n",
    "** this is a TEST OF PROPORTIONS. we use the Binomial distribution since it is a yes/no (bernulli) test for each subject: the former inmate was or was not ever employed in a CEO transitional job (second row in the table above): **\n",
    "\n",
    "** $P_0=0.035, P_1=0.701$**"
   ]
  },
  {
   "cell_type": "code",
   "execution_count": 3,
   "metadata": {
    "ExecuteTime": {
     "end_time": "2018-10-03T03:56:26.188112Z",
     "start_time": "2018-10-03T03:56:26.168425Z"
    },
    "run_control": {
     "frozen": false,
     "read_only": false
    }
   },
   "outputs": [
    {
     "name": "stdout",
     "output_type": "stream",
     "text": [
      "we must assess the statistical significance\n"
     ]
    }
   ],
   "source": [
    "\n",
    "# first thing: choose your significance threshold\n",
    "alpha=0.05\n",
    "\n",
    "\n",
    "\n",
    "# we like fractions better then percentages. as a rule of thumb, either use fractions or counts. \n",
    "# 0 for control group, 1 for program group\n",
    "\n",
    "P_0 = 3.5 * 0.01 \n",
    "P_1 = 70.1 * 0.01\n",
    "\n",
    "if P_0 - P_1 >= 0:\n",
    "    # we are done\n",
    "    print (\"the Null holds\")\n",
    "else:\n",
    "    print (\"we must assess the statistical significance\")\n",
    "\n",
    "#sample sizes \n",
    "\n",
    "n_0 = 409\n",
    "n_1 = 564\n",
    "    \n",
    "#lets get the counts by multiplying by the sample size\n",
    "\n",
    "Nt_0 = P_0 * n_0\n",
    "Nt_1 = P_1 * n_1\n"
   ]
  },
  {
   "cell_type": "markdown",
   "metadata": {
    "run_control": {
     "frozen": false,
     "read_only": false
    }
   },
   "source": [
    "# WHICH  TEST?\n",
    "\n",
    "samples, categorical data\n",
    " \n",
    " ** TWO OPTIONS z test, or chi-square test.  **"
   ]
  },
  {
   "cell_type": "markdown",
   "metadata": {
    "run_control": {
     "frozen": false,
     "read_only": false
    }
   },
   "source": [
    "# START WITH Z TEST\n",
    "\n",
    "** the z test compares the stanrard deviation of the expected distribution and the observed result. it tells you literally how many standard deviations from the tail an observation is, under the _assumption of normality_ **\n"
   ]
  },
  {
   "cell_type": "code",
   "execution_count": 4,
   "metadata": {
    "ExecuteTime": {
     "end_time": "2018-10-03T03:56:26.216297Z",
     "start_time": "2018-10-03T03:56:26.193671Z"
    },
    "run_control": {
     "frozen": false,
     "read_only": false
    }
   },
   "outputs": [],
   "source": [
    "#Image(\"ztest.png\")\n",
    "#https://onlinecourses.science.psu.edu/stat414/node/268"
   ]
  },
  {
   "cell_type": "markdown",
   "metadata": {},
   "source": [
    "must define the sample standard deviation (standard error)"
   ]
  },
  {
   "cell_type": "code",
   "execution_count": 5,
   "metadata": {
    "ExecuteTime": {
     "end_time": "2018-10-03T03:56:26.257273Z",
     "start_time": "2018-10-03T03:56:26.241254Z"
    },
    "run_control": {
     "frozen": false,
     "read_only": false
    }
   },
   "outputs": [
    {
     "name": "stdout",
     "output_type": "stream",
     "text": [
      "0.421047276465\n"
     ]
    }
   ],
   "source": [
    "#define the sample proportion first\n",
    "sp = (P_0 * n_0 + P_1 * n_1) / (n_1 + n_0)\n",
    "print (sp)"
   ]
  },
  {
   "cell_type": "markdown",
   "metadata": {
    "run_control": {
     "frozen": false,
     "read_only": false
    }
   },
   "source": [
    "** standard deviation of the sampling distribution the distribution is Binomial, the binomial stdev is **\n",
    "\n",
    "(see a proof here!: http://stats.stackexchange.com/questions/29641/standard-error-for-the-mean-of-a-sample-of-binomial-random-variables!): \n",
    "\n",
    "$\\sqrt{\\frac{p(1 - p)}{n}}$\n",
    "\n",
    "for 2 samples this becomes \n",
    "\n",
    "$\\sqrt{ \\frac{ \\hat{p}(1 - \\hat{p})} {n0} + \\frac{ \\hat{p}(1 - \\hat{p})} {n1} }$\n",
    "\n",
    "cfr: page 138 of Statistics in a Nutshell, eq. 5.12 and here http://stattrek.com/hypothesis-test/difference-in-proportions.aspx?Tutorial=AP\n",
    "\n",
    "** $\\hat{p} =\\frac{p_0  n_0 + p_1  n_1}{n_0+n_1}$ **\n"
   ]
  },
  {
   "cell_type": "markdown",
   "metadata": {
    "run_control": {
     "frozen": false,
     "read_only": false
    }
   },
   "source": [
    "Note that in the online version of Statistics in a Nutshell, $\\bar{x}$  should be  $\\hat{p}$!!"
   ]
  },
  {
   "cell_type": "code",
   "execution_count": 6,
   "metadata": {
    "ExecuteTime": {
     "end_time": "2018-10-03T03:56:26.271816Z",
     "start_time": "2018-10-03T03:56:26.262189Z"
    },
    "run_control": {
     "frozen": false,
     "read_only": false
    }
   },
   "outputs": [],
   "source": [
    "# I am goonna create a little one line function to calculate the standard error\n",
    "# and to calculate p\n",
    "\n",
    "p = lambda p0, p1, n0, n1: (p0 * n0 + p1 * n1) / (n0 + n1)\n",
    "#standard error\n",
    "se = lambda p, n0, n1: np.sqrt(p * (1 - p) * (1.0 / n0 + 1.0 / n1)) "
   ]
  },
  {
   "cell_type": "markdown",
   "metadata": {
    "run_control": {
     "frozen": false,
     "read_only": false
    }
   },
   "source": [
    "** z score: how many standard deviation away from the population parameter is my statistic? **\n",
    "\n",
    " $z=\\frac{P_1-P_0}{\\sigma}$"
   ]
  },
  {
   "cell_type": "code",
   "execution_count": 7,
   "metadata": {
    "ExecuteTime": {
     "end_time": "2018-10-03T03:56:26.292608Z",
     "start_time": "2018-10-03T03:56:26.277966Z"
    },
    "run_control": {
     "frozen": false,
     "read_only": false
    }
   },
   "outputs": [
    {
     "name": "stdout",
     "output_type": "stream",
     "text": [
      "20.7697865408\n"
     ]
    }
   ],
   "source": [
    "zscore = lambda p0, p1, s : (p0 - p1) / s\n",
    "z_2y = zscore(P_1, P_0, se(p(P_0, P_1, n_0, n_1), n_0, n_1))\n",
    "print (z_2y)\n"
   ]
  },
  {
   "cell_type": "markdown",
   "metadata": {
    "run_control": {
     "frozen": false,
     "read_only": false
    }
   },
   "source": [
    "note that using p0-p1 or p1-p0 at the numerator is equivalent because the standardizes normal value of z has mean 0 (see image below) so that we can use the absolute value of the z score, or equivalently look for $P[Z<z]$ if z is positive, and $P[Z>z]$ if z is negative."
   ]
  },
  {
   "cell_type": "code",
   "execution_count": 8,
   "metadata": {
    "ExecuteTime": {
     "end_time": "2018-10-03T03:56:28.727209Z",
     "start_time": "2018-10-03T03:56:26.302653Z"
    },
    "run_control": {
     "frozen": false,
     "read_only": false
    }
   },
   "outputs": [],
   "source": [
    "#Image('http://intersci.ss.uci.edu/wiki/images/3/3a/Normal01.jpg')"
   ]
  },
  {
   "cell_type": "markdown",
   "metadata": {
    "run_control": {
     "frozen": false,
     "read_only": false
    }
   },
   "source": [
    "* if $p<\\alpha$ : reject H0 **\n",
    "\n",
    "IMPORTANT!! note that this P in the bottom line of the table is not the p-value, but \n",
    "\n",
    "p-value = 1-P"
   ]
  },
  {
   "cell_type": "code",
   "execution_count": 9,
   "metadata": {
    "ExecuteTime": {
     "end_time": "2018-10-03T03:56:28.851851Z",
     "start_time": "2018-10-03T03:56:28.732068Z"
    },
    "run_control": {
     "frozen": false,
     "read_only": false
    }
   },
   "outputs": [
    {
     "name": "stdout",
     "output_type": "stream",
     "text": [
      "is the p value 0.00 smaller than the critical value 0.05?\n",
      "YES!\n",
      "the Null hypothesis is rejected\n"
     ]
    }
   ],
   "source": [
    "## p-value for employment after 2 years: \n",
    "## since the largest number we read off the table for is (way) smaller \n",
    "## than the value for our statistic \n",
    "## our p-value will be smaller than it would be if calculated using \n",
    "## (e.g.) .9998 (and in fact using 1.0000 which is the largest number \n",
    "## in the table). Using 0.9998 is a **conservative** approach. \n",
    "\n",
    "p_2y = 1 - 0.9984\n",
    "\n",
    "\n",
    "def report_result(p,a):\n",
    "    print ('is the p value ' + \n",
    "           '{0:.2f} smaller than the critical value {1:.2f}?'.format(p,a))\n",
    "    if p < a:\n",
    "        print (\"YES!\")\n",
    "    else: \n",
    "        print (\"NO!\")\n",
    "    \n",
    "    print ('the Null hypothesis is {}'.format(\\\n",
    "                            'rejected' if p < a  else 'not rejected') )\n",
    "\n",
    "    \n",
    "report_result(p_2y, alpha)"
   ]
  },
  {
   "cell_type": "markdown",
   "metadata": {
    "run_control": {
     "frozen": false,
     "read_only": false
    }
   },
   "source": [
    "# 1\n",
    "\n",
    "\n",
    "# what if we used the values for where the former inmate was or was not \"Convicted of a felony\" (row 10) in the Recidivism (Years 1-3)?\n",
    "\n",
    "## NULL HYPOTHESIS: the % of former prisoners who was convicted of a felony employed in the Recidivism after release is the same or higher for candidates who participated in the program as for the control group, significance level p=0.05\n",
    "\n",
    "\n",
    "** $H_0: P_0 - P_1 $<=   0 **\n",
    "    \n",
    "** $H_a: P_0 - P_1 $> 0    **\n",
    "    \n",
    "    \n",
    "** $\\alpha$ = 0.05    **\n",
    "\n",
    " $P_0 = 11.7*0.01 = 0.117$   \n",
    " $P_1= 10.0 * 0.01 = 0.1$"
   ]
  },
  {
   "cell_type": "markdown",
   "metadata": {
    "run_control": {
     "frozen": false,
     "read_only": false
    }
   },
   "source": [
    " look up data table and insert the appropriate values to get the appropriate result! you can use the functions I defined above, with different arguments. "
   ]
  },
  {
   "cell_type": "code",
   "execution_count": 18,
   "metadata": {},
   "outputs": [
    {
     "name": "stdout",
     "output_type": "stream",
     "text": [
      "we must assess the statistical significance\n",
      "z score is -0.847640\n"
     ]
    }
   ],
   "source": [
    "P_0 = 0.117\n",
    "P_1 = 0.1\n",
    "n_0 = 409\n",
    "n_1 = 568\n",
    "\n",
    "if P_0 - P_1 <= 0:\n",
    "    # we are done\n",
    "    print (\"the Null holds\")\n",
    "else:\n",
    "    print (\"we must assess the statistical significance\")\n",
    "\n",
    "# conduct the z test\n",
    "z_3y = zscore(P_1, P_0, se(p(P_0, P_1, n_0, n_1), n_0, n_1))\n",
    "print (\"z score is %f\"%z_3y)"
   ]
  },
  {
   "cell_type": "code",
   "execution_count": 19,
   "metadata": {},
   "outputs": [
    {
     "name": "stdout",
     "output_type": "stream",
     "text": [
      "0.1977\n"
     ]
    }
   ],
   "source": [
    "# We could look up the z-score chart and find the P[Z>z] is 0.8023\n",
    "p_3y = 1 - 0.8023\n",
    "print (p_3y)"
   ]
  },
  {
   "cell_type": "code",
   "execution_count": 20,
   "metadata": {},
   "outputs": [
    {
     "name": "stdout",
     "output_type": "stream",
     "text": [
      "is the p value 0.20 smaller than the critical value 0.05?\n",
      "NO!\n",
      "the Null hypothesis is not rejected\n"
     ]
    }
   ],
   "source": [
    "report_result(p_3y, alpha)"
   ]
  },
  {
   "cell_type": "markdown",
   "metadata": {
    "run_control": {
     "frozen": false,
     "read_only": false
    }
   },
   "source": [
    "# Now lets do it with the $\\chi^2$ test"
   ]
  },
  {
   "cell_type": "markdown",
   "metadata": {
    "run_control": {
     "frozen": false,
     "read_only": false
    }
   },
   "source": [
    "this analysis can also be done with the $\\chi^2$ test, and the  $\\chi^2$ distribution, \n",
    "\n",
    "see  flowcharts for how to choose a test and \"Statistics In a Nutshell Chapter 4\", or http://math.hws.edu/javamath/ryan/ChiSquare.html (if you are really just interested in the formula at face value)"
   ]
  },
  {
   "cell_type": "markdown",
   "metadata": {
    "run_control": {
     "frozen": false,
     "read_only": false
    }
   },
   "source": [
    "** The chisq statistics tests the statistics calculated as : **\n",
    "\n",
    "$\\chi^2 = \\sum_{i} \\frac{(observation_i - expectation_i)^2}{expectation_i}$\n",
    "\n",
    " against a chi sq distribution.\n",
    " If we talk about sample fractions  that is \n",
    "\n",
    "$\\chi^2 = \\sum_i \\frac{(f_{i,observed} - f_{i,expectated})^2}{f_{i,expected}}$\n",
    "\n",
    " Where _i_ indicates the sum over _each cell_.\n",
    " turns out this quantity is distributed according to a chi square distribution, so if i get the $\\chi^2$ statistics i can compare it to the full chisq distribution and see how far in the tail it is\n",
    "\n",
    " The trickiest part (but not that tricky) is to figure out how to construct the table of values. please see Statistics In a Nutshell Chapter 4, for our data for example: Thisis called a CONTINGENCY TABLE"
   ]
  },
  {
   "cell_type": "markdown",
   "metadata": {
    "run_control": {
     "frozen": false,
     "read_only": false
    }
   },
   "source": [
    "|                 |     success         | failure|    |               \n",
    "|-----------------|:-------------------:|:-------------------:|---------------------------|\n",
    "| test sample     | number of successes in test    | number of failures in test    | number members of test sample |\n",
    "| control sample  | number of successes in control | number of failures in control | number members of control sample| \n",
    "|                 | total successes                |  total failures               | number of all members         |\n",
    "\n",
    "|employed in subsadized job |     employed          | not employed     |                   \n",
    "|---------------------------|:---------------------:|------------------|---------------------------|\n",
    "| test sample               | $0.701*564$           | $0.299*564$      | 564                       |\n",
    "| control sample            | $0.035*409$           | $0.965*4.09$     | 409                       |\n",
    "|                           |                       |                  |                           |\n",
    "| total                     | 409.679               |  562.912         | 973                       |"
   ]
  },
  {
   "cell_type": "markdown",
   "metadata": {
    "run_control": {
     "frozen": false,
     "read_only": false
    }
   },
   "source": [
    " for each cell the expected ratio is the product of the total of all rows and all columns, devided by the total"
   ]
  },
  {
   "cell_type": "markdown",
   "metadata": {
    "run_control": {
     "frozen": false,
     "read_only": false
    }
   },
   "source": [
    "** FOR EACH CELL: **\n",
    "**  expected_cell = $\\frac{row~tot * col~tot}{total}$ **\n"
   ]
  },
  {
   "cell_type": "code",
   "execution_count": 22,
   "metadata": {
    "ExecuteTime": {
     "end_time": "2018-10-03T03:56:28.895811Z",
     "start_time": "2018-10-03T03:56:28.859130Z"
    },
    "run_control": {
     "frozen": false,
     "read_only": false
    }
   },
   "outputs": [],
   "source": [
    "#from evalChisq import evalChisq"
   ]
  },
  {
   "cell_type": "code",
   "execution_count": 21,
   "metadata": {
    "ExecuteTime": {
     "end_time": "2018-10-03T03:56:28.927003Z",
     "start_time": "2018-10-03T03:56:28.902307Z"
    },
    "run_control": {
     "frozen": false,
     "read_only": false
    }
   },
   "outputs": [],
   "source": [
    "\n",
    "# Ntot = 973 # a + b + c + d = tot\n",
    "\n",
    "# sample_values = np.array([[0.701 * 564, 0.299 * 564], [0.0305 * 409, 0.965 * 409]])\n",
    "\n",
    "# print (evalChisq(sample_values))"
   ]
  },
  {
   "cell_type": "markdown",
   "metadata": {
    "run_control": {
     "frozen": false,
     "read_only": false
    }
   },
   "source": [
    "This number must be compared to the chi sq distribution. \n",
    "You must calculate the number of degrees of freedom forthis experiment. \n",
    "Generally: DOF = Number of observations - number of Independent Variables\n",
    "\n",
    "so here DOF = 1. Now you can look at the table below and draw conclusions about the rejection of the Null"
   ]
  },
  {
   "cell_type": "code",
   "execution_count": 23,
   "metadata": {
    "ExecuteTime": {
     "end_time": "2018-10-03T03:56:31.626124Z",
     "start_time": "2018-10-03T03:56:28.934112Z"
    },
    "run_control": {
     "frozen": false,
     "read_only": false
    },
    "scrolled": false
   },
   "outputs": [],
   "source": [
    "#Image(\"http://passel.unl.edu/Image/Namuth-CovertDeana956176274/chi-sqaure%20distribution%20table.PNG\")"
   ]
  },
  {
   "cell_type": "markdown",
   "metadata": {
    "run_control": {
     "frozen": false,
     "read_only": false
    }
   },
   "source": [
    "432 is hella larger then 3.84\n",
    "\n",
    "why am i mentioning 3.84?\n",
    "\n",
    "how does the chi square statistic that you derived compare?\n",
    "\n",
    "please  state what that means in terms of your Null hypothesis in a markdown cell below!"
   ]
  },
  {
   "cell_type": "markdown",
   "metadata": {},
   "source": [
    "### We can see the Chi-square distribution, for p = 0.05 and DOF = 1, we could get 3.84 for the Chi-square critical value. The p-value we got in this problem is 432 which is much higher than 3.84. So that we could confidently reject the Null hypothesis which is ever employed in a CEO transitional job has no influence on the employment.  "
   ]
  },
  {
   "cell_type": "markdown",
   "metadata": {
    "run_control": {
     "frozen": false,
     "read_only": false
    }
   },
   "source": [
    "# 2\n",
    "lets see what the chi sq statistics says about the conviction for fellonies (row 10)"
   ]
  },
  {
   "cell_type": "code",
   "execution_count": 30,
   "metadata": {
    "scrolled": true
   },
   "outputs": [
    {
     "name": "stdout",
     "output_type": "stream",
     "text": [
      "(47.853, 361.147, 56.800000000000004, 511.2)\n",
      "104.653\n",
      "872.347\n"
     ]
    }
   ],
   "source": [
    "P_0 = 0.117\n",
    "P_1 = 0.1\n",
    "n_0 = 409\n",
    "n_1 = 568\n",
    "obeservation1 = n_0 * P_0\n",
    "lr = n_0 * (1 - P_0)\n",
    "ul = n_1 * P_1\n",
    "ur = n_1 * (1 - P_1)\n",
    "print (ll, lr, ul, ur)\n",
    "print (ll + ul)\n",
    "print (lr + ur)"
   ]
  },
  {
   "cell_type": "raw",
   "metadata": {
    "run_control": {
     "frozen": false,
     "read_only": false
    }
   },
   "source": [
    "* fill in the contingency table below *\n",
    "expectation\n",
    "|convicted of a fellony     |     yes   | no        |                   \n",
    "|---------------------------|-----------|-----------|----------------|\n",
    "| test sample               |  568*0.1  |   568*0.9 |      568       |\n",
    "| control sample            | 409*0.117 |  409*0.883|      409       |\n",
    "|                           |           |           |                |\n",
    "| total                     |  104.653  |   872.347 |      977       |\n",
    "\n",
    "\n",
    "Observation\n",
    "|convicted of a fellony     |     yes   | no        |                   \n",
    "|---------------------------|-----------|-----------|----------------|\n",
    "| test sample               |  568*0.1  |   568*0.9 |      568       |\n",
    "| control sample            | 409*0.117 |  409*0.883|      409       |\n",
    "|                           |           |           |                |\n",
    "| total                     |  104.653  |   872.347 |      977       |"
   ]
  },
  {
   "cell_type": "markdown",
   "metadata": {
    "collapsed": true,
    "run_control": {
     "frozen": false,
     "read_only": false
    }
   },
   "source": [
    "DOF = 1 Thus we can see the Chi-square distribution, for p = 0.05 and DOF = 1, we could get 3.84 for the propbability of a larger value of x**2"
   ]
  },
  {
   "cell_type": "markdown",
   "metadata": {},
   "source": [
    "$\\chi^2 = \\sum_{i} \\frac{(observation_i - expectation_i)^2}{expectation_i}$\n",
    "\n"
   ]
  },
  {
   "cell_type": "code",
   "execution_count": 33,
   "metadata": {},
   "outputs": [
    {
     "name": "stdout",
     "output_type": "stream",
     "text": [
      "exp12 = 52.326500\n",
      "exp34 = 436.173500\n"
     ]
    }
   ],
   "source": [
    "exp12 = (568 * 0.1 + 409 * 0.117) / 2\n",
    "exp34 = (568 * 0.9 + 409 * 0.883) / 2\n",
    "print (\"exp12 = %f\" %exp12)\n",
    "print (\"exp34 = %f\" %exp34)"
   ]
  },
  {
   "cell_type": "code",
   "execution_count": 35,
   "metadata": {},
   "outputs": [
    {
     "data": {
      "text/plain": [
       "0.7184939175052877"
      ]
     },
     "execution_count": 35,
     "metadata": {},
     "output_type": "execute_result"
    }
   ],
   "source": [
    "convicted_ex = (0.1*568 + 0.117*409)/(568+409)\n",
    "uncon_ex = (0.9*568 + 0.883*409)/(568+409)\n",
    "Chi_sq = (((0.1*568)-568*convicted_ex)**2/(568*convicted_ex))+\\\n",
    "(((0.117*409)-409*convicted_ex)**2/(409*convicted_ex))+\\\n",
    "(((0.9*568)-568*uncon_ex)**2/(568*uncon_ex))+\\\n",
    "(((0.883*409)-(409*uncon_ex))**2/(409*uncon_ex))\n",
    "Chi_sq"
   ]
  },
  {
   "cell_type": "markdown",
   "metadata": {},
   "source": [
    "### In this case, p = 0.05 and the DOF = 1, Chi_sq critical value we use here is 3.84. 0.718 < 3.84 so that we could not reject the NULL hypothesis. "
   ]
  },
  {
   "cell_type": "code",
   "execution_count": null,
   "metadata": {},
   "outputs": [],
   "source": []
  }
 ],
 "metadata": {
  "anaconda-cloud": {},
  "kernelspec": {
   "display_name": "PUI2016_Python2",
   "language": "python",
   "name": "pui2016_python2"
  },
  "language_info": {
   "codemirror_mode": {
    "name": "ipython",
    "version": 2
   },
   "file_extension": ".py",
   "mimetype": "text/x-python",
   "name": "python",
   "nbconvert_exporter": "python",
   "pygments_lexer": "ipython2",
   "version": "2.7.12"
  },
  "latex_envs": {
   "LaTeX_envs_menu_present": true,
   "bibliofile": "biblio.bib",
   "cite_by": "apalike",
   "current_citInitial": 1,
   "eqLabelWithNumbers": true,
   "eqNumInitial": 1,
   "hotkeys": {
    "equation": "Ctrl-E",
    "itemize": "Ctrl-I"
   },
   "labels_anchors": false,
   "latex_user_defs": false,
   "report_style_numbering": false,
   "user_envs_cfg": false
  },
  "toc": {
   "colors": {
    "hover_highlight": "#DAA520",
    "running_highlight": "#FF0000",
    "selected_highlight": "#FFD700"
   },
   "moveMenuLeft": true,
   "nav_menu": {
    "height": "513px",
    "width": "251px"
   },
   "navigate_menu": true,
   "number_sections": true,
   "sideBar": true,
   "threshold": 4,
   "toc_cell": false,
   "toc_section_display": "block",
   "toc_window_display": false
  }
 },
 "nbformat": 4,
 "nbformat_minor": 1
}
