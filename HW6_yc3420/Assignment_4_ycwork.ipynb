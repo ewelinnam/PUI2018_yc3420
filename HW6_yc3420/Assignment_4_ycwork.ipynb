{
 "cells": [
  {
   "cell_type": "markdown",
   "metadata": {},
   "source": [
    "### This assignment is following the instructions that provided by Dr. Bianco. \n",
    "\n",
    "It is finished by Yunhe Cui as an individual task (though I use \"we\" instead of \"me\").\n",
    "\n",
    "\n",
    "# !!! Please run the Assignment_4_ec_prep.ipynb in a python3 environment before rerun this notebook!!!\n",
    "\n"
   ]
  },
  {
   "cell_type": "markdown",
   "metadata": {},
   "source": [
    "### test if the distribution of \n",
    "\n",
    "#### 1) trip duration of bikers that ride during the day vs night\n",
    "\n",
    "#### 2) age of bikers for trips originating in Manhattan and in Brooklyn (extra credit)\n",
    "\n",
    "are different. Use 3 tests: KS, Pearson's, Spearman's. \n",
    "\n",
    "Use the scipy.stats functions scipy.stats.ks_2samp, scipy.stats.pearsonr, scipy.stats.spearmanr. \n",
    "\n",
    "For the KS do the test with the entire dataset and with a subset 200 times smaller\n",
    "\n",
    "Choose a single significant threshold for the whole exercise. \n",
    "\n",
    "For each test phrase the Null Hypothesis in words.\n",
    "\n",
    "Describe the return of the scipy function you use in each case.\n",
    "\n",
    "State the result in terms of rejection of the Null."
   ]
  },
  {
   "cell_type": "code",
   "execution_count": null,
   "metadata": {},
   "outputs": [],
   "source": []
  },
  {
   "cell_type": "code",
   "execution_count": 2,
   "metadata": {},
   "outputs": [
    {
     "name": "stdout",
     "output_type": "stream",
     "text": [
      "Populating the interactive namespace from numpy and matplotlib\n"
     ]
    }
   ],
   "source": [
    "import pylab as pl\n",
    "import pandas as pd\n",
    "import numpy as np\n",
    "#imports downloader\n",
    "from getCitiBikeCSV import getCitiBikeCSV\n",
    "import scipy.stats\n",
    "import os\n",
    "%pylab inline\n",
    "\n",
    "# the getCitiBikeCSV is retrieved from Dr. Bianco's folder in repo PUI2018/HW06"
   ]
  },
  {
   "cell_type": "markdown",
   "metadata": {},
   "source": [
    "### Read in Data"
   ]
  },
  {
   "cell_type": "code",
   "execution_count": 3,
   "metadata": {},
   "outputs": [
    {
     "name": "stdout",
     "output_type": "stream",
     "text": [
      "('Downloading', '201502')\n",
      "file in place, you can continue\n",
      "('Downloading', '201508')\n",
      "file in place, you can continue\n"
     ]
    }
   ],
   "source": [
    "# using the citibike data for 2015-02 (cold month) and 2018-08 (warm month)\n",
    "datastring_1 = '201502'\n",
    "getCitiBikeCSV(datastring_1)\n",
    "datastring_2 = '201508'\n",
    "getCitiBikeCSV(datastring_2)"
   ]
  },
  {
   "cell_type": "code",
   "execution_count": 4,
   "metadata": {},
   "outputs": [
    {
     "name": "stdout",
     "output_type": "stream",
     "text": [
      "201502-citibike-tripdata.csv  201508-citibike-tripdata.csv  nyc_pluto_18v1.zip\r\n",
      "201502-citibike-tripdata.zip  201508-citibike-tripdata.zip  PLUTO_for_WEB\r\n",
      "201503-citibike-tripdata.csv  borough.csv\t\t    time.csv\r\n",
      "201503-citibike-tripdata.zip  drinking_water_quaity.csv\r\n"
     ]
    }
   ],
   "source": [
    "!ls $PUIDATA\n",
    "# files are now in the PUIDATA folder as listed"
   ]
  },
  {
   "cell_type": "code",
   "execution_count": 5,
   "metadata": {},
   "outputs": [],
   "source": [
    "df_02 = pd.read_csv(\"%s/201502-citibike-tripdata.csv\"%os.getenv(\"PUIDATA\"))\n",
    "df_08 = pd.read_csv(\"%s/201508-citibike-tripdata.csv\"%os.getenv(\"PUIDATA\"))\n"
   ]
  },
  {
   "cell_type": "code",
   "execution_count": 6,
   "metadata": {},
   "outputs": [],
   "source": [
    "df = pd.concat([df_02, df_08])"
   ]
  },
  {
   "cell_type": "code",
   "execution_count": 7,
   "metadata": {
    "scrolled": true
   },
   "outputs": [],
   "source": [
    "print (\"df_02 shape is {}\".format(df_02.shape))\n",
    "print (\"df_08 shape is {}\".format(df_08.shape))\n",
    "print (\"the combined df shape is {}\".format(df.shape))"
   ]
  },
  {
   "cell_type": "markdown",
   "metadata": {},
   "source": [
    "## Problem 1: trip duration of bikers that ride during the day vs night\n",
    "\n",
    "#### Since we used the ridership data from Feb and Aug, the sunrise-sunset times are different at a large scale. In this case, we define the day time as 7am to 7pm and night time from 7pm to 7am of the following day.\n",
    "H0: There is NO statistical difference in term of trip duration depending on time (day/night)   \n",
    "Ha: There is statistical difference in term of trip duration depending on time (day/night)   \n",
    "significance level α = 0.05"
   ]
  },
  {
   "cell_type": "code",
   "execution_count": 8,
   "metadata": {},
   "outputs": [],
   "source": [
    "df['date'] = pd.to_datetime(df['starttime'])\n",
    "df['hour'] = df['date'].dt.hour\n"
   ]
  },
  {
   "cell_type": "code",
   "execution_count": 9,
   "metadata": {
    "scrolled": true
   },
   "outputs": [
    {
     "data": {
      "text/plain": [
       "Index([u'tripduration', u'starttime', u'stoptime', u'start station id',\n",
       "       u'start station name', u'start station latitude',\n",
       "       u'start station longitude', u'end station id', u'end station name',\n",
       "       u'end station latitude', u'end station longitude', u'bikeid',\n",
       "       u'usertype', u'birth year', u'gender', u'date', u'hour'],\n",
       "      dtype='object')"
      ]
     },
     "execution_count": 9,
     "metadata": {},
     "output_type": "execute_result"
    }
   ],
   "source": [
    "df.columns"
   ]
  },
  {
   "cell_type": "code",
   "execution_count": 10,
   "metadata": {},
   "outputs": [
    {
     "data": {
      "text/html": [
       "<div>\n",
       "<table border=\"1\" class=\"dataframe\">\n",
       "  <thead>\n",
       "    <tr style=\"text-align: right;\">\n",
       "      <th></th>\n",
       "      <th>tripduration</th>\n",
       "      <th>starttime</th>\n",
       "      <th>stoptime</th>\n",
       "      <th>start station id</th>\n",
       "      <th>start station name</th>\n",
       "      <th>start station latitude</th>\n",
       "      <th>start station longitude</th>\n",
       "      <th>end station id</th>\n",
       "      <th>end station name</th>\n",
       "      <th>end station latitude</th>\n",
       "      <th>end station longitude</th>\n",
       "      <th>bikeid</th>\n",
       "      <th>usertype</th>\n",
       "      <th>birth year</th>\n",
       "      <th>gender</th>\n",
       "      <th>date</th>\n",
       "      <th>hour</th>\n",
       "    </tr>\n",
       "  </thead>\n",
       "  <tbody>\n",
       "    <tr>\n",
       "      <th>0</th>\n",
       "      <td>801</td>\n",
       "      <td>2/1/2015 0:00</td>\n",
       "      <td>2/1/2015 0:14</td>\n",
       "      <td>521</td>\n",
       "      <td>8 Ave &amp; W 31 St</td>\n",
       "      <td>40.750450</td>\n",
       "      <td>-73.994811</td>\n",
       "      <td>423</td>\n",
       "      <td>W 54 St &amp; 9 Ave</td>\n",
       "      <td>40.765849</td>\n",
       "      <td>-73.986905</td>\n",
       "      <td>17131</td>\n",
       "      <td>Subscriber</td>\n",
       "      <td>1978.0</td>\n",
       "      <td>2</td>\n",
       "      <td>2015-02-01 00:00:00</td>\n",
       "      <td>0</td>\n",
       "    </tr>\n",
       "    <tr>\n",
       "      <th>1</th>\n",
       "      <td>379</td>\n",
       "      <td>2/1/2015 0:00</td>\n",
       "      <td>2/1/2015 0:07</td>\n",
       "      <td>497</td>\n",
       "      <td>E 17 St &amp; Broadway</td>\n",
       "      <td>40.737050</td>\n",
       "      <td>-73.990093</td>\n",
       "      <td>504</td>\n",
       "      <td>1 Ave &amp; E 15 St</td>\n",
       "      <td>40.732219</td>\n",
       "      <td>-73.981656</td>\n",
       "      <td>21289</td>\n",
       "      <td>Subscriber</td>\n",
       "      <td>1993.0</td>\n",
       "      <td>1</td>\n",
       "      <td>2015-02-01 00:00:00</td>\n",
       "      <td>0</td>\n",
       "    </tr>\n",
       "    <tr>\n",
       "      <th>2</th>\n",
       "      <td>2474</td>\n",
       "      <td>2/1/2015 0:01</td>\n",
       "      <td>2/1/2015 0:42</td>\n",
       "      <td>281</td>\n",
       "      <td>Grand Army Plaza &amp; Central Park S</td>\n",
       "      <td>40.764397</td>\n",
       "      <td>-73.973715</td>\n",
       "      <td>127</td>\n",
       "      <td>Barrow St &amp; Hudson St</td>\n",
       "      <td>40.731724</td>\n",
       "      <td>-74.006744</td>\n",
       "      <td>18903</td>\n",
       "      <td>Subscriber</td>\n",
       "      <td>1969.0</td>\n",
       "      <td>2</td>\n",
       "      <td>2015-02-01 00:01:00</td>\n",
       "      <td>0</td>\n",
       "    </tr>\n",
       "    <tr>\n",
       "      <th>3</th>\n",
       "      <td>818</td>\n",
       "      <td>2/1/2015 0:01</td>\n",
       "      <td>2/1/2015 0:15</td>\n",
       "      <td>2004</td>\n",
       "      <td>6 Ave &amp; Broome St</td>\n",
       "      <td>40.724399</td>\n",
       "      <td>-74.004704</td>\n",
       "      <td>505</td>\n",
       "      <td>6 Ave &amp; W 33 St</td>\n",
       "      <td>40.749013</td>\n",
       "      <td>-73.988484</td>\n",
       "      <td>21044</td>\n",
       "      <td>Subscriber</td>\n",
       "      <td>1985.0</td>\n",
       "      <td>2</td>\n",
       "      <td>2015-02-01 00:01:00</td>\n",
       "      <td>0</td>\n",
       "    </tr>\n",
       "    <tr>\n",
       "      <th>4</th>\n",
       "      <td>544</td>\n",
       "      <td>2/1/2015 0:01</td>\n",
       "      <td>2/1/2015 0:10</td>\n",
       "      <td>323</td>\n",
       "      <td>Lawrence St &amp; Willoughby St</td>\n",
       "      <td>40.692362</td>\n",
       "      <td>-73.986317</td>\n",
       "      <td>83</td>\n",
       "      <td>Atlantic Ave &amp; Fort Greene Pl</td>\n",
       "      <td>40.683826</td>\n",
       "      <td>-73.976323</td>\n",
       "      <td>19868</td>\n",
       "      <td>Subscriber</td>\n",
       "      <td>1957.0</td>\n",
       "      <td>1</td>\n",
       "      <td>2015-02-01 00:01:00</td>\n",
       "      <td>0</td>\n",
       "    </tr>\n",
       "  </tbody>\n",
       "</table>\n",
       "</div>"
      ],
      "text/plain": [
       "   tripduration      starttime       stoptime  start station id  \\\n",
       "0           801  2/1/2015 0:00  2/1/2015 0:14               521   \n",
       "1           379  2/1/2015 0:00  2/1/2015 0:07               497   \n",
       "2          2474  2/1/2015 0:01  2/1/2015 0:42               281   \n",
       "3           818  2/1/2015 0:01  2/1/2015 0:15              2004   \n",
       "4           544  2/1/2015 0:01  2/1/2015 0:10               323   \n",
       "\n",
       "                  start station name  start station latitude  \\\n",
       "0                    8 Ave & W 31 St               40.750450   \n",
       "1                 E 17 St & Broadway               40.737050   \n",
       "2  Grand Army Plaza & Central Park S               40.764397   \n",
       "3                  6 Ave & Broome St               40.724399   \n",
       "4        Lawrence St & Willoughby St               40.692362   \n",
       "\n",
       "   start station longitude  end station id               end station name  \\\n",
       "0               -73.994811             423                W 54 St & 9 Ave   \n",
       "1               -73.990093             504                1 Ave & E 15 St   \n",
       "2               -73.973715             127          Barrow St & Hudson St   \n",
       "3               -74.004704             505                6 Ave & W 33 St   \n",
       "4               -73.986317              83  Atlantic Ave & Fort Greene Pl   \n",
       "\n",
       "   end station latitude  end station longitude  bikeid    usertype  \\\n",
       "0             40.765849             -73.986905   17131  Subscriber   \n",
       "1             40.732219             -73.981656   21289  Subscriber   \n",
       "2             40.731724             -74.006744   18903  Subscriber   \n",
       "3             40.749013             -73.988484   21044  Subscriber   \n",
       "4             40.683826             -73.976323   19868  Subscriber   \n",
       "\n",
       "   birth year  gender                date  hour  \n",
       "0      1978.0       2 2015-02-01 00:00:00     0  \n",
       "1      1993.0       1 2015-02-01 00:00:00     0  \n",
       "2      1969.0       2 2015-02-01 00:01:00     0  \n",
       "3      1985.0       2 2015-02-01 00:01:00     0  \n",
       "4      1957.0       1 2015-02-01 00:01:00     0  "
      ]
     },
     "execution_count": 10,
     "metadata": {},
     "output_type": "execute_result"
    }
   ],
   "source": [
    "df.head()"
   ]
  },
  {
   "cell_type": "markdown",
   "metadata": {},
   "source": [
    "### split by category"
   ]
  },
  {
   "cell_type": "code",
   "execution_count": 11,
   "metadata": {},
   "outputs": [
    {
     "data": {
      "text/plain": [
       "Index([u'tripduration', u'starttime', u'stoptime', u'start station id',\n",
       "       u'start station name', u'start station latitude',\n",
       "       u'start station longitude', u'end station id', u'end station name',\n",
       "       u'end station latitude', u'end station longitude', u'bikeid',\n",
       "       u'usertype', u'birth year', u'gender', u'date', u'hour'],\n",
       "      dtype='object')"
      ]
     },
     "execution_count": 11,
     "metadata": {},
     "output_type": "execute_result"
    }
   ],
   "source": [
    "df.columns"
   ]
  },
  {
   "cell_type": "code",
   "execution_count": 12,
   "metadata": {},
   "outputs": [],
   "source": [
    "# drop redundant columns\n",
    "df_c = df.drop([u'starttime', u'stoptime', u'start station name',u'end station name',u'bikeid',u'usertype',u'birth year', u'gender', u'date'], axis = 1)\n",
    "df_c = df_c.reset_index()\n"
   ]
  },
  {
   "cell_type": "code",
   "execution_count": 13,
   "metadata": {},
   "outputs": [],
   "source": [
    "# give the day/night attribute\n",
    "df_c['dur_day'] = df_c['tripduration'][(df_c['hour']>4) & (df_c['hour']<=17)]\n",
    "df_c['dur_night'] = df_c['tripduration'][(df_c['hour']<=4) | (df_c['hour']>17)]"
   ]
  },
  {
   "cell_type": "code",
   "execution_count": 14,
   "metadata": {},
   "outputs": [],
   "source": [
    "df_c = df_c.iloc[:,1:]\n",
    "#df_c"
   ]
  },
  {
   "cell_type": "code",
   "execution_count": 15,
   "metadata": {},
   "outputs": [
    {
     "name": "stderr",
     "output_type": "stream",
     "text": [
      "/usr/local/Anaconda3-5.0.0-Linux-x86_64/envs/PUI2016_Python2/lib/python2.7/site-packages/numpy/lib/function_base.py:3834: RuntimeWarning: Invalid value encountered in percentile\n",
      "  RuntimeWarning)\n"
     ]
    },
    {
     "data": {
      "text/html": [
       "<div>\n",
       "<table border=\"1\" class=\"dataframe\">\n",
       "  <thead>\n",
       "    <tr style=\"text-align: right;\">\n",
       "      <th></th>\n",
       "      <th>tripduration</th>\n",
       "      <th>start station id</th>\n",
       "      <th>start station latitude</th>\n",
       "      <th>start station longitude</th>\n",
       "      <th>end station id</th>\n",
       "      <th>end station latitude</th>\n",
       "      <th>end station longitude</th>\n",
       "      <th>hour</th>\n",
       "      <th>dur_day</th>\n",
       "      <th>dur_night</th>\n",
       "    </tr>\n",
       "  </thead>\n",
       "  <tbody>\n",
       "    <tr>\n",
       "      <th>count</th>\n",
       "      <td>1.375974e+06</td>\n",
       "      <td>1.375974e+06</td>\n",
       "      <td>1.375974e+06</td>\n",
       "      <td>1.375974e+06</td>\n",
       "      <td>1.375974e+06</td>\n",
       "      <td>1.375974e+06</td>\n",
       "      <td>1.375974e+06</td>\n",
       "      <td>1.375974e+06</td>\n",
       "      <td>9.407120e+05</td>\n",
       "      <td>4.352620e+05</td>\n",
       "    </tr>\n",
       "    <tr>\n",
       "      <th>mean</th>\n",
       "      <td>9.647967e+02</td>\n",
       "      <td>5.072377e+02</td>\n",
       "      <td>4.073460e+01</td>\n",
       "      <td>-7.399066e+01</td>\n",
       "      <td>5.065809e+02</td>\n",
       "      <td>4.073431e+01</td>\n",
       "      <td>-7.399076e+01</td>\n",
       "      <td>1.411235e+01</td>\n",
       "      <td>9.618673e+02</td>\n",
       "      <td>9.711279e+02</td>\n",
       "    </tr>\n",
       "    <tr>\n",
       "      <th>std</th>\n",
       "      <td>7.248311e+03</td>\n",
       "      <td>5.216934e+02</td>\n",
       "      <td>1.943665e-02</td>\n",
       "      <td>1.329158e-02</td>\n",
       "      <td>5.222284e+02</td>\n",
       "      <td>1.946503e-02</td>\n",
       "      <td>1.330478e-02</td>\n",
       "      <td>4.905994e+00</td>\n",
       "      <td>6.025032e+03</td>\n",
       "      <td>9.361113e+03</td>\n",
       "    </tr>\n",
       "    <tr>\n",
       "      <th>min</th>\n",
       "      <td>6.000000e+01</td>\n",
       "      <td>7.200000e+01</td>\n",
       "      <td>4.067891e+01</td>\n",
       "      <td>-7.401713e+01</td>\n",
       "      <td>7.200000e+01</td>\n",
       "      <td>4.067891e+01</td>\n",
       "      <td>-7.401713e+01</td>\n",
       "      <td>0.000000e+00</td>\n",
       "      <td>6.000000e+01</td>\n",
       "      <td>6.000000e+01</td>\n",
       "    </tr>\n",
       "    <tr>\n",
       "      <th>25%</th>\n",
       "      <td>4.000000e+02</td>\n",
       "      <td>3.070000e+02</td>\n",
       "      <td>4.072083e+01</td>\n",
       "      <td>-7.400026e+01</td>\n",
       "      <td>3.070000e+02</td>\n",
       "      <td>4.072066e+01</td>\n",
       "      <td>-7.400027e+01</td>\n",
       "      <td>1.000000e+01</td>\n",
       "      <td>NaN</td>\n",
       "      <td>NaN</td>\n",
       "    </tr>\n",
       "    <tr>\n",
       "      <th>50%</th>\n",
       "      <td>6.480000e+02</td>\n",
       "      <td>4.170000e+02</td>\n",
       "      <td>4.073625e+01</td>\n",
       "      <td>-7.399076e+01</td>\n",
       "      <td>4.150000e+02</td>\n",
       "      <td>4.073588e+01</td>\n",
       "      <td>-7.399076e+01</td>\n",
       "      <td>1.500000e+01</td>\n",
       "      <td>NaN</td>\n",
       "      <td>NaN</td>\n",
       "    </tr>\n",
       "    <tr>\n",
       "      <th>75%</th>\n",
       "      <td>1.087000e+03</td>\n",
       "      <td>4.950000e+02</td>\n",
       "      <td>4.075007e+01</td>\n",
       "      <td>-7.398192e+01</td>\n",
       "      <td>4.930000e+02</td>\n",
       "      <td>4.074972e+01</td>\n",
       "      <td>-7.398192e+01</td>\n",
       "      <td>1.800000e+01</td>\n",
       "      <td>NaN</td>\n",
       "      <td>NaN</td>\n",
       "    </tr>\n",
       "    <tr>\n",
       "      <th>max</th>\n",
       "      <td>2.842280e+06</td>\n",
       "      <td>3.224000e+03</td>\n",
       "      <td>4.077164e+01</td>\n",
       "      <td>-7.392989e+01</td>\n",
       "      <td>3.224000e+03</td>\n",
       "      <td>4.077706e+01</td>\n",
       "      <td>-7.392989e+01</td>\n",
       "      <td>2.300000e+01</td>\n",
       "      <td>2.842280e+06</td>\n",
       "      <td>2.712082e+06</td>\n",
       "    </tr>\n",
       "  </tbody>\n",
       "</table>\n",
       "</div>"
      ],
      "text/plain": [
       "       tripduration  start station id  start station latitude  \\\n",
       "count  1.375974e+06      1.375974e+06            1.375974e+06   \n",
       "mean   9.647967e+02      5.072377e+02            4.073460e+01   \n",
       "std    7.248311e+03      5.216934e+02            1.943665e-02   \n",
       "min    6.000000e+01      7.200000e+01            4.067891e+01   \n",
       "25%    4.000000e+02      3.070000e+02            4.072083e+01   \n",
       "50%    6.480000e+02      4.170000e+02            4.073625e+01   \n",
       "75%    1.087000e+03      4.950000e+02            4.075007e+01   \n",
       "max    2.842280e+06      3.224000e+03            4.077164e+01   \n",
       "\n",
       "       start station longitude  end station id  end station latitude  \\\n",
       "count             1.375974e+06    1.375974e+06          1.375974e+06   \n",
       "mean             -7.399066e+01    5.065809e+02          4.073431e+01   \n",
       "std               1.329158e-02    5.222284e+02          1.946503e-02   \n",
       "min              -7.401713e+01    7.200000e+01          4.067891e+01   \n",
       "25%              -7.400026e+01    3.070000e+02          4.072066e+01   \n",
       "50%              -7.399076e+01    4.150000e+02          4.073588e+01   \n",
       "75%              -7.398192e+01    4.930000e+02          4.074972e+01   \n",
       "max              -7.392989e+01    3.224000e+03          4.077706e+01   \n",
       "\n",
       "       end station longitude          hour       dur_day     dur_night  \n",
       "count           1.375974e+06  1.375974e+06  9.407120e+05  4.352620e+05  \n",
       "mean           -7.399076e+01  1.411235e+01  9.618673e+02  9.711279e+02  \n",
       "std             1.330478e-02  4.905994e+00  6.025032e+03  9.361113e+03  \n",
       "min            -7.401713e+01  0.000000e+00  6.000000e+01  6.000000e+01  \n",
       "25%            -7.400027e+01  1.000000e+01           NaN           NaN  \n",
       "50%            -7.399076e+01  1.500000e+01           NaN           NaN  \n",
       "75%            -7.398192e+01  1.800000e+01           NaN           NaN  \n",
       "max            -7.392989e+01  2.300000e+01  2.842280e+06  2.712082e+06  "
      ]
     },
     "execution_count": 15,
     "metadata": {},
     "output_type": "execute_result"
    }
   ],
   "source": [
    "# get the description\n",
    "df_c.describe()"
   ]
  },
  {
   "cell_type": "code",
   "execution_count": 16,
   "metadata": {},
   "outputs": [
    {
     "data": {
      "text/html": [
       "<div>\n",
       "<table border=\"1\" class=\"dataframe\">\n",
       "  <thead>\n",
       "    <tr style=\"text-align: right;\">\n",
       "      <th></th>\n",
       "      <th>tripduration</th>\n",
       "      <th>start station id</th>\n",
       "      <th>start station latitude</th>\n",
       "      <th>start station longitude</th>\n",
       "      <th>end station id</th>\n",
       "      <th>end station latitude</th>\n",
       "      <th>end station longitude</th>\n",
       "      <th>hour</th>\n",
       "      <th>dur_day</th>\n",
       "      <th>dur_night</th>\n",
       "    </tr>\n",
       "  </thead>\n",
       "  <tbody>\n",
       "    <tr>\n",
       "      <th>0</th>\n",
       "      <td>801</td>\n",
       "      <td>521</td>\n",
       "      <td>40.750450</td>\n",
       "      <td>-73.994811</td>\n",
       "      <td>423</td>\n",
       "      <td>40.765849</td>\n",
       "      <td>-73.986905</td>\n",
       "      <td>0</td>\n",
       "      <td>NaN</td>\n",
       "      <td>801.0</td>\n",
       "    </tr>\n",
       "    <tr>\n",
       "      <th>1</th>\n",
       "      <td>379</td>\n",
       "      <td>497</td>\n",
       "      <td>40.737050</td>\n",
       "      <td>-73.990093</td>\n",
       "      <td>504</td>\n",
       "      <td>40.732219</td>\n",
       "      <td>-73.981656</td>\n",
       "      <td>0</td>\n",
       "      <td>NaN</td>\n",
       "      <td>379.0</td>\n",
       "    </tr>\n",
       "    <tr>\n",
       "      <th>2</th>\n",
       "      <td>2474</td>\n",
       "      <td>281</td>\n",
       "      <td>40.764397</td>\n",
       "      <td>-73.973715</td>\n",
       "      <td>127</td>\n",
       "      <td>40.731724</td>\n",
       "      <td>-74.006744</td>\n",
       "      <td>0</td>\n",
       "      <td>NaN</td>\n",
       "      <td>2474.0</td>\n",
       "    </tr>\n",
       "    <tr>\n",
       "      <th>3</th>\n",
       "      <td>818</td>\n",
       "      <td>2004</td>\n",
       "      <td>40.724399</td>\n",
       "      <td>-74.004704</td>\n",
       "      <td>505</td>\n",
       "      <td>40.749013</td>\n",
       "      <td>-73.988484</td>\n",
       "      <td>0</td>\n",
       "      <td>NaN</td>\n",
       "      <td>818.0</td>\n",
       "    </tr>\n",
       "    <tr>\n",
       "      <th>4</th>\n",
       "      <td>544</td>\n",
       "      <td>323</td>\n",
       "      <td>40.692362</td>\n",
       "      <td>-73.986317</td>\n",
       "      <td>83</td>\n",
       "      <td>40.683826</td>\n",
       "      <td>-73.976323</td>\n",
       "      <td>0</td>\n",
       "      <td>NaN</td>\n",
       "      <td>544.0</td>\n",
       "    </tr>\n",
       "  </tbody>\n",
       "</table>\n",
       "</div>"
      ],
      "text/plain": [
       "   tripduration  start station id  start station latitude  \\\n",
       "0           801               521               40.750450   \n",
       "1           379               497               40.737050   \n",
       "2          2474               281               40.764397   \n",
       "3           818              2004               40.724399   \n",
       "4           544               323               40.692362   \n",
       "\n",
       "   start station longitude  end station id  end station latitude  \\\n",
       "0               -73.994811             423             40.765849   \n",
       "1               -73.990093             504             40.732219   \n",
       "2               -73.973715             127             40.731724   \n",
       "3               -74.004704             505             40.749013   \n",
       "4               -73.986317              83             40.683826   \n",
       "\n",
       "   end station longitude  hour  dur_day  dur_night  \n",
       "0             -73.986905     0      NaN      801.0  \n",
       "1             -73.981656     0      NaN      379.0  \n",
       "2             -74.006744     0      NaN     2474.0  \n",
       "3             -73.988484     0      NaN      818.0  \n",
       "4             -73.976323     0      NaN      544.0  "
      ]
     },
     "execution_count": 16,
     "metadata": {},
     "output_type": "execute_result"
    }
   ],
   "source": [
    "#dropping the NaN value\n",
    "df_c['dur_day'].dropna(inplace= True)\n",
    "df_c['dur_night'].dropna(inplace= True)\n",
    "df_c.head()"
   ]
  },
  {
   "cell_type": "markdown",
   "metadata": {},
   "source": [
    "### plot the data in histograms"
   ]
  },
  {
   "cell_type": "markdown",
   "metadata": {},
   "source": [
    "In this case, we use 60 sec as a split bin. The maximum data is too large which could be considered as outliers. We could use 1 hour (3600 second) as the upper boundary of our dataset to show the trend of our data   \n",
    "The histograms are as follow"
   ]
  },
  {
   "cell_type": "code",
   "execution_count": 17,
   "metadata": {},
   "outputs": [
    {
     "data": {
      "image/png": "[encoded data removed]",
      "text/plain": [
       "<matplotlib.figure.Figure at 0x7ff8ad9d0b50>"
      ]
     },
     "metadata": {},
     "output_type": "display_data"
    },
    {
     "data": {
      "image/png": "[encoded data removed]",
      "text/plain": [
       "<matplotlib.figure.Figure at 0x7ff8ad950590>"
      ]
     },
     "metadata": {},
     "output_type": "display_data"
    }
   ],
   "source": [
    "bins = np.arange(0, 3600, 60)\n",
    "\n",
    "Day = df_c.dur_day.groupby(pd.cut(df_c.dur_day, bins)).agg([count_nonzero]).plot(kind='bar', figsize = (20,4),legend=False)\n",
    "Day.set_title(\"Day Trip Durations\")\n",
    "\n",
    "Night = df_c.dur_night.groupby(pd.cut(df_c.dur_night, bins)).agg([count_nonzero]).plot(kind='bar',figsize = (20,4),legend=False)\n",
    "Night.set_title(\"Night Trip Durations\");"
   ]
  },
  {
   "cell_type": "markdown",
   "metadata": {},
   "source": [
    "Figure1. This is a histogram of Day/Night citibike ride duration distribution. The raw data is from citibike 2015 Feb and Aug. We could see that the distribution of those day/night trip duration have similar positive skewed trend. However, the number of day ridership is more than 3 times of night ones.  "
   ]
  },
  {
   "cell_type": "code",
   "execution_count": 18,
   "metadata": {},
   "outputs": [
    {
     "name": "stdout",
     "output_type": "stream",
     "text": [
      "              count_nonzero\n",
      "dur_day                    \n",
      "(0, 60]            0.000034\n",
      "(60, 120]          0.000421\n",
      "(120, 180]         0.000379\n",
      "(180, 240]         0.001482\n",
      "(240, 300]         0.004094\n",
      "(300, 360]         0.008454\n",
      "(360, 420]         0.013158\n",
      "(420, 480]         0.016803\n",
      "(480, 540]         0.019675\n",
      "(540, 600]         0.021944\n",
      "(600, 660]         0.021938\n",
      "(660, 720]         0.020884\n",
      "(720, 780]         0.018889\n",
      "(780, 840]         0.016611\n",
      "(840, 900]         0.013794\n",
      "(900, 960]         0.010778\n",
      "(960, 1020]        0.008377\n",
      "(1020, 1080]       0.006039\n",
      "(1080, 1140]       0.003744\n",
      "(1140, 1200]       0.001969\n",
      "(1200, 1260]       0.000903\n",
      "(1260, 1320]       0.000165\n",
      "(1320, 1380]       0.000697\n",
      "(1380, 1440]       0.000886\n",
      "(1440, 1500]       0.000906\n",
      "(1500, 1560]       0.001636\n",
      "(1560, 1620]       0.001691\n",
      "(1620, 1680]       0.001730\n",
      "(1680, 1740]       0.001766\n",
      "(1740, 1800]       0.002102\n",
      "(1800, 1860]       0.002414\n",
      "(1860, 1920]       0.002515\n",
      "(1920, 1980]       0.002560\n",
      "(1980, 2040]       0.002720\n",
      "(2040, 2100]       0.002857\n",
      "(2100, 2160]       0.002856\n",
      "(2160, 2220]       0.003093\n",
      "(2220, 2280]       0.003286\n",
      "(2280, 2340]       0.003296\n",
      "(2340, 2400]       0.003186\n",
      "(2400, 2460]       0.003042\n",
      "(2460, 2520]       0.002803\n",
      "(2520, 2580]       0.002716\n",
      "(2580, 2640]       0.002711\n",
      "(2640, 2700]       0.002498\n",
      "(2700, 2760]       0.002349\n",
      "(2760, 2820]       0.002204\n",
      "(2820, 2880]       0.002062\n",
      "(2880, 2940]       0.001879\n",
      "(2940, 3000]       0.001708\n",
      "(3000, 3060]       0.001596\n",
      "(3060, 3120]       0.001332\n",
      "(3120, 3180]       0.001012\n",
      "(3180, 3240]       0.000792\n",
      "(3240, 3300]       0.000542\n",
      "(3300, 3360]       0.000394\n",
      "(3360, 3420]       0.000254\n",
      "(3420, 3480]       0.000154\n",
      "(3480, 3540]       0.000000\n"
     ]
    },
    {
     "data": {
      "text/plain": [
       "<matplotlib.legend.Legend at 0x7ff86df523d0>"
      ]
     },
     "execution_count": 18,
     "metadata": {},
     "output_type": "execute_result"
    },
    {
     "data": {
      "image/png": "[encoded data removed]",
      "text/plain": [
       "<matplotlib.figure.Figure at 0x7ff8ad58fd50>"
      ]
     },
     "metadata": {},
     "output_type": "display_data"
    }
   ],
   "source": [
    "#print df.ageS, df.ageS.cumsum()\n",
    "\n",
    "drd=df_c.dur_day.groupby(pd.cut(df_c.dur_day, bins)).agg([count_nonzero]).cumsum()\n",
    "\n",
    "drn=df_c.dur_night.groupby(pd.cut(df_c.dur_night, bins)).agg([count_nonzero]).cumsum()\n",
    "\n",
    "print (np.abs(drd / drd.max()- drn / drn.max()))\n",
    "\n",
    "pl.plot(bins[:-1] + 5, drd / drd.max(), label = \"Day\")\n",
    "pl.plot(bins[:-1] + 5, drn / drn.max(), label = \"Night\")\n",
    "pl.plot(bins[:-1] + 5, np.sqrt(drn / drn.max() - drd / drd.max())**2, 'k-',label = \"difference\")\n",
    "pl.xlabel(\"Trip duration\")\n",
    "pl.ylabel(\"Normalized Cumulative Number\")\n",
    "pl.legend()"
   ]
  },
  {
   "cell_type": "markdown",
   "metadata": {},
   "source": [
    "Figure2. This chart shows the normalized day/night citibike trip duration. It is clear that the difference between the distribution of them is very small. "
   ]
  },
  {
   "cell_type": "markdown",
   "metadata": {},
   "source": [
    "### 1.1-1 test to compare 2 samples\n",
    "According to https://docs.scipy.org/doc/scipy0.15.1/reference/generated/scipy.stats.ks_2samp.html, If the K-S statistic is small or the p-value is high, then we cannot reject the hypothesis that the distributions of the two samples are the same. Only the 2-sided test could be implemented. "
   ]
  },
  {
   "cell_type": "code",
   "execution_count": 19,
   "metadata": {},
   "outputs": [
    {
     "name": "stdout",
     "output_type": "stream",
     "text": [
      "Ks_2sampResult(statistic=0.018471794972401773, pvalue=1.1750413436033721e-88)\n"
     ]
    }
   ],
   "source": [
    "ks = scipy.stats.ks_2samp(df_c.dur_day, df_c.dur_night)\n",
    "print (ks)"
   ]
  },
  {
   "cell_type": "markdown",
   "metadata": {},
   "source": [
    "#### We got p-value is extremely small (we could see it as 0) which is definitely smaller than 0.05 (our preset significance level). In this case, we COULD REJECT the Null hypothesis which is \"There is NO statistical difference in term of trip duration depending on time (day/night)\""
   ]
  },
  {
   "cell_type": "markdown",
   "metadata": {},
   "source": [
    "### 1.1-2 KS test w/ reduced dataset"
   ]
  },
  {
   "cell_type": "code",
   "execution_count": 20,
   "metadata": {},
   "outputs": [
    {
     "name": "stdout",
     "output_type": "stream",
     "text": [
      "Ks_2sampResult(statistic=0.037495473556037114, pvalue=0.1162020682930863)\n"
     ]
    }
   ],
   "source": [
    "df_r = df_c.sample(df_c['dur_day'].shape[0]/200, axis = 0)\n",
    "df_r['dur_day'].dropna(inplace= True)\n",
    "df_r['dur_night'].dropna(inplace= True)\n",
    "ks_r = scipy.stats.ks_2samp(df_r.dur_day, df_r.dur_night)\n",
    "print (ks_r)"
   ]
  },
  {
   "cell_type": "markdown",
   "metadata": {},
   "source": [
    "#### In this case, we used a random sample which is selected from the dataset (sample size  200 times smaller). The p value is 0.2701 which is larger than 0.05. Thus, we could not reject the null hypothesis. "
   ]
  },
  {
   "cell_type": "markdown",
   "metadata": {},
   "source": [
    "The scipy.stats KS test already tells me the significance and the p-value.  \n",
    "The next few cells are here just to show you how you would obtain the same result by hand, but they are not required.  \n",
    "Remember: the Null hypothesis is rejected if  \n",
    "$D_KS(n1,n2) &gt; c(\\alpha) \\sqrt{\\frac{(n1 + n2)}{n1n2}}$\n",
    "(see class notes) where $c(\\alpha$) is the inverse of the KS distribution, and you do not have to know how to get that cause there are tables that list critical values!!  \n",
    "http://www.real-statistics.com/tests-normality-and-symmetry/statistical-tests-normality-symmetry/kolmogorov-smirnov-test/kolmogorov-distribution/  \n",
    "But also this result depends in your choice of binning through, and thustheresultyou get by hand may not be exactly the same as the one the KS returns. Either way: this is how you would calculate the KS statistics by hand."
   ]
  },
  {
   "cell_type": "markdown",
   "metadata": {},
   "source": [
    "### 1.2 Pearson's test for correlation\n",
    "#### -> the following words are retrieved from scipy.org   \n",
    "Like other correlation coefficients, this one varies between -1 and +1 with 0 implying no correlation. Correlations of -1 or +1 imply an exact linear relationship. Positive correlations imply that as x increases, so does y. Negative correlations imply that as x increases, y decreases.  \n",
    "https://docs.scipy.org/doc/scipy/reference/generated/scipy.stats.pearsonr.html#scipy.stats.pearsonr"
   ]
  },
  {
   "cell_type": "markdown",
   "metadata": {},
   "source": [
    "### H0: There is NO correlation between Day&Night trip duration\n",
    "significance level α = 0.05"
   ]
  },
  {
   "cell_type": "code",
   "execution_count": 21,
   "metadata": {},
   "outputs": [],
   "source": [
    "# scipy.stats.pearsonr(x , y) x,y should be the same length\n",
    "len_min = min(df_c['dur_day'].shape, df_c['dur_night'].shape)\n",
    "len_min = len_min[0]"
   ]
  },
  {
   "cell_type": "code",
   "execution_count": 22,
   "metadata": {},
   "outputs": [],
   "source": [
    "Day_reduced = np.sort(df_c['dur_day'].sample(n = len_min, axis = 0))\n",
    "Night_reduced = np.sort(df_c['dur_night'].sample(n = len_min, axis = 0))"
   ]
  },
  {
   "cell_type": "code",
   "execution_count": 23,
   "metadata": {},
   "outputs": [
    {
     "data": {
      "text/plain": [
       "(0.90923071952558199, 0.0)"
      ]
     },
     "execution_count": 23,
     "metadata": {},
     "output_type": "execute_result"
    }
   ],
   "source": [
    "pearson = scipy.stats.pearsonr(Day_reduced,Night_reduced)\n",
    "pearson"
   ]
  },
  {
   "cell_type": "markdown",
   "metadata": {},
   "source": [
    "### The correlation coefficient of Pearson's test is 0.95966, which indicate a strong positive linear relationship. The p value is 0.0 and we could reject our null hypothesis. "
   ]
  },
  {
   "cell_type": "markdown",
   "metadata": {},
   "source": [
    "### 1.3 Spearman's test for correlation\n",
    "https://docs.scipy.org/doc/scipy/reference/generated/scipy.stats.spearmanr.html#scipy.stats.spearmanr  \n"
   ]
  },
  {
   "cell_type": "code",
   "execution_count": 24,
   "metadata": {},
   "outputs": [
    {
     "data": {
      "text/plain": [
       "SpearmanrResult(correlation=0.99999943462483676, pvalue=0.0)"
      ]
     },
     "execution_count": 24,
     "metadata": {},
     "output_type": "execute_result"
    }
   ],
   "source": [
    "# scipy.stats.spearmanr(a, b=None, axis=0, nan_policy='propagate')\n",
    "spearman = scipy.stats.spearmanr(Day_reduced,Night_reduced)\n",
    "spearman"
   ]
  },
  {
   "cell_type": "markdown",
   "metadata": {},
   "source": [
    "### The returned value is the correlation coefficient and the corresponding p-value. The correlation coefficient of Spearman's test almost 1, which indicate a strong positive linear relationship. The p value is 0.0 and we could reject our null hypothesis. "
   ]
  },
  {
   "cell_type": "markdown",
   "metadata": {},
   "source": [
    "=======================================================================\n",
    "## Problem 2: age of bikers for trips originating in Manhattan and in Brooklyn (extra credit)\n",
    "\n",
    "# !!! Please run the Assignment_4_ec_prep.ipynb in a python3 environment before rerun this notebook!!!\n"
   ]
  },
  {
   "cell_type": "markdown",
   "metadata": {},
   "source": [
    "###  H0: There is no statistical difference in the age distribution of bikers in Manhattan and Brooklyn\n",
    " significance level p = 0.05"
   ]
  },
  {
   "cell_type": "code",
   "execution_count": 25,
   "metadata": {},
   "outputs": [
    {
     "data": {
      "text/html": [
       "<div>\n",
       "<table border=\"1\" class=\"dataframe\">\n",
       "  <thead>\n",
       "    <tr style=\"text-align: right;\">\n",
       "      <th></th>\n",
       "      <th>tripduration</th>\n",
       "      <th>starttime</th>\n",
       "      <th>stoptime</th>\n",
       "      <th>start station id</th>\n",
       "      <th>start station name</th>\n",
       "      <th>start station latitude</th>\n",
       "      <th>start station longitude</th>\n",
       "      <th>end station id</th>\n",
       "      <th>end station name</th>\n",
       "      <th>end station latitude</th>\n",
       "      <th>end station longitude</th>\n",
       "      <th>bikeid</th>\n",
       "      <th>usertype</th>\n",
       "      <th>birth year</th>\n",
       "      <th>gender</th>\n",
       "      <th>date</th>\n",
       "      <th>hour</th>\n",
       "      <th>age</th>\n",
       "    </tr>\n",
       "  </thead>\n",
       "  <tbody>\n",
       "    <tr>\n",
       "      <th>0</th>\n",
       "      <td>801</td>\n",
       "      <td>2/1/2015 0:00</td>\n",
       "      <td>2/1/2015 0:14</td>\n",
       "      <td>521</td>\n",
       "      <td>8 Ave &amp; W 31 St</td>\n",
       "      <td>40.750450</td>\n",
       "      <td>-73.994811</td>\n",
       "      <td>423</td>\n",
       "      <td>W 54 St &amp; 9 Ave</td>\n",
       "      <td>40.765849</td>\n",
       "      <td>-73.986905</td>\n",
       "      <td>17131</td>\n",
       "      <td>Subscriber</td>\n",
       "      <td>1978.0</td>\n",
       "      <td>2</td>\n",
       "      <td>2015-02-01 00:00:00</td>\n",
       "      <td>0</td>\n",
       "      <td>37.0</td>\n",
       "    </tr>\n",
       "    <tr>\n",
       "      <th>1</th>\n",
       "      <td>379</td>\n",
       "      <td>2/1/2015 0:00</td>\n",
       "      <td>2/1/2015 0:07</td>\n",
       "      <td>497</td>\n",
       "      <td>E 17 St &amp; Broadway</td>\n",
       "      <td>40.737050</td>\n",
       "      <td>-73.990093</td>\n",
       "      <td>504</td>\n",
       "      <td>1 Ave &amp; E 15 St</td>\n",
       "      <td>40.732219</td>\n",
       "      <td>-73.981656</td>\n",
       "      <td>21289</td>\n",
       "      <td>Subscriber</td>\n",
       "      <td>1993.0</td>\n",
       "      <td>1</td>\n",
       "      <td>2015-02-01 00:00:00</td>\n",
       "      <td>0</td>\n",
       "      <td>22.0</td>\n",
       "    </tr>\n",
       "    <tr>\n",
       "      <th>2</th>\n",
       "      <td>2474</td>\n",
       "      <td>2/1/2015 0:01</td>\n",
       "      <td>2/1/2015 0:42</td>\n",
       "      <td>281</td>\n",
       "      <td>Grand Army Plaza &amp; Central Park S</td>\n",
       "      <td>40.764397</td>\n",
       "      <td>-73.973715</td>\n",
       "      <td>127</td>\n",
       "      <td>Barrow St &amp; Hudson St</td>\n",
       "      <td>40.731724</td>\n",
       "      <td>-74.006744</td>\n",
       "      <td>18903</td>\n",
       "      <td>Subscriber</td>\n",
       "      <td>1969.0</td>\n",
       "      <td>2</td>\n",
       "      <td>2015-02-01 00:01:00</td>\n",
       "      <td>0</td>\n",
       "      <td>46.0</td>\n",
       "    </tr>\n",
       "    <tr>\n",
       "      <th>3</th>\n",
       "      <td>818</td>\n",
       "      <td>2/1/2015 0:01</td>\n",
       "      <td>2/1/2015 0:15</td>\n",
       "      <td>2004</td>\n",
       "      <td>6 Ave &amp; Broome St</td>\n",
       "      <td>40.724399</td>\n",
       "      <td>-74.004704</td>\n",
       "      <td>505</td>\n",
       "      <td>6 Ave &amp; W 33 St</td>\n",
       "      <td>40.749013</td>\n",
       "      <td>-73.988484</td>\n",
       "      <td>21044</td>\n",
       "      <td>Subscriber</td>\n",
       "      <td>1985.0</td>\n",
       "      <td>2</td>\n",
       "      <td>2015-02-01 00:01:00</td>\n",
       "      <td>0</td>\n",
       "      <td>30.0</td>\n",
       "    </tr>\n",
       "    <tr>\n",
       "      <th>4</th>\n",
       "      <td>544</td>\n",
       "      <td>2/1/2015 0:01</td>\n",
       "      <td>2/1/2015 0:10</td>\n",
       "      <td>323</td>\n",
       "      <td>Lawrence St &amp; Willoughby St</td>\n",
       "      <td>40.692362</td>\n",
       "      <td>-73.986317</td>\n",
       "      <td>83</td>\n",
       "      <td>Atlantic Ave &amp; Fort Greene Pl</td>\n",
       "      <td>40.683826</td>\n",
       "      <td>-73.976323</td>\n",
       "      <td>19868</td>\n",
       "      <td>Subscriber</td>\n",
       "      <td>1957.0</td>\n",
       "      <td>1</td>\n",
       "      <td>2015-02-01 00:01:00</td>\n",
       "      <td>0</td>\n",
       "      <td>58.0</td>\n",
       "    </tr>\n",
       "  </tbody>\n",
       "</table>\n",
       "</div>"
      ],
      "text/plain": [
       "   tripduration      starttime       stoptime  start station id  \\\n",
       "0           801  2/1/2015 0:00  2/1/2015 0:14               521   \n",
       "1           379  2/1/2015 0:00  2/1/2015 0:07               497   \n",
       "2          2474  2/1/2015 0:01  2/1/2015 0:42               281   \n",
       "3           818  2/1/2015 0:01  2/1/2015 0:15              2004   \n",
       "4           544  2/1/2015 0:01  2/1/2015 0:10               323   \n",
       "\n",
       "                  start station name  start station latitude  \\\n",
       "0                    8 Ave & W 31 St               40.750450   \n",
       "1                 E 17 St & Broadway               40.737050   \n",
       "2  Grand Army Plaza & Central Park S               40.764397   \n",
       "3                  6 Ave & Broome St               40.724399   \n",
       "4        Lawrence St & Willoughby St               40.692362   \n",
       "\n",
       "   start station longitude  end station id               end station name  \\\n",
       "0               -73.994811             423                W 54 St & 9 Ave   \n",
       "1               -73.990093             504                1 Ave & E 15 St   \n",
       "2               -73.973715             127          Barrow St & Hudson St   \n",
       "3               -74.004704             505                6 Ave & W 33 St   \n",
       "4               -73.986317              83  Atlantic Ave & Fort Greene Pl   \n",
       "\n",
       "   end station latitude  end station longitude  bikeid    usertype  \\\n",
       "0             40.765849             -73.986905   17131  Subscriber   \n",
       "1             40.732219             -73.981656   21289  Subscriber   \n",
       "2             40.731724             -74.006744   18903  Subscriber   \n",
       "3             40.749013             -73.988484   21044  Subscriber   \n",
       "4             40.683826             -73.976323   19868  Subscriber   \n",
       "\n",
       "   birth year  gender                date  hour   age  \n",
       "0      1978.0       2 2015-02-01 00:00:00     0  37.0  \n",
       "1      1993.0       1 2015-02-01 00:00:00     0  22.0  \n",
       "2      1969.0       2 2015-02-01 00:01:00     0  46.0  \n",
       "3      1985.0       2 2015-02-01 00:01:00     0  30.0  \n",
       "4      1957.0       1 2015-02-01 00:01:00     0  58.0  "
      ]
     },
     "execution_count": 25,
     "metadata": {},
     "output_type": "execute_result"
    }
   ],
   "source": [
    "df['age'] = 2015 - df['birth year']\n",
    "df.head()"
   ]
  },
  {
   "cell_type": "code",
   "execution_count": 26,
   "metadata": {},
   "outputs": [
    {
     "name": "stdout",
     "output_type": "stream",
     "text": [
      "201501-citibike-tripdata.csv  201503-citibike-tripdata.zip  nyc_pluto_18v1.zip\r\n",
      "201501-citibike-tripdata.zip  201508-citibike-tripdata.csv  PLUTO_for_WEB\r\n",
      "201502-citibike-tripdata.csv  201508-citibike-tripdata.zip  time.csv\r\n",
      "201502-citibike-tripdata.zip  borough.csv\r\n",
      "201503-citibike-tripdata.csv  drinking_water_quaity.csv\r\n"
     ]
    }
   ],
   "source": [
    "!ls $PUIDATA"
   ]
  },
  {
   "cell_type": "code",
   "execution_count": 27,
   "metadata": {},
   "outputs": [],
   "source": [
    "borough = pd.read_csv(\"%s/borough.csv\"%os.getenv(\"PUIDATA\"))"
   ]
  },
  {
   "cell_type": "code",
   "execution_count": 28,
   "metadata": {},
   "outputs": [
    {
     "data": {
      "text/html": [
       "<div>\n",
       "<table border=\"1\" class=\"dataframe\">\n",
       "  <thead>\n",
       "    <tr style=\"text-align: right;\">\n",
       "      <th></th>\n",
       "      <th>Latitude</th>\n",
       "      <th>Longitude</th>\n",
       "      <th>StationNam</th>\n",
       "      <th>boro_code</th>\n",
       "      <th>boro_name</th>\n",
       "    </tr>\n",
       "  </thead>\n",
       "  <tbody>\n",
       "    <tr>\n",
       "      <th>0</th>\n",
       "      <td>40.767272</td>\n",
       "      <td>-73.993929</td>\n",
       "      <td>W 52 St &amp; 11 Ave</td>\n",
       "      <td>1.0</td>\n",
       "      <td>Manhattan</td>\n",
       "    </tr>\n",
       "    <tr>\n",
       "      <th>1</th>\n",
       "      <td>40.719116</td>\n",
       "      <td>-74.006667</td>\n",
       "      <td>Franklin St &amp; W Broadway</td>\n",
       "      <td>1.0</td>\n",
       "      <td>Manhattan</td>\n",
       "    </tr>\n",
       "    <tr>\n",
       "      <th>2</th>\n",
       "      <td>40.711174</td>\n",
       "      <td>-74.000165</td>\n",
       "      <td>St James Pl &amp; Pearl St</td>\n",
       "      <td>1.0</td>\n",
       "      <td>Manhattan</td>\n",
       "    </tr>\n",
       "    <tr>\n",
       "      <th>3</th>\n",
       "      <td>40.683826</td>\n",
       "      <td>-73.976323</td>\n",
       "      <td>Atlantic Ave &amp; Fort Greene Pl</td>\n",
       "      <td>3.0</td>\n",
       "      <td>Brooklyn</td>\n",
       "    </tr>\n",
       "    <tr>\n",
       "      <th>4</th>\n",
       "      <td>40.741776</td>\n",
       "      <td>-74.001497</td>\n",
       "      <td>W 17 St &amp; 8 Ave</td>\n",
       "      <td>1.0</td>\n",
       "      <td>Manhattan</td>\n",
       "    </tr>\n",
       "  </tbody>\n",
       "</table>\n",
       "</div>"
      ],
      "text/plain": [
       "    Latitude  Longitude                     StationNam  boro_code  boro_name\n",
       "0  40.767272 -73.993929               W 52 St & 11 Ave        1.0  Manhattan\n",
       "1  40.719116 -74.006667       Franklin St & W Broadway        1.0  Manhattan\n",
       "2  40.711174 -74.000165         St James Pl & Pearl St        1.0  Manhattan\n",
       "3  40.683826 -73.976323  Atlantic Ave & Fort Greene Pl        3.0   Brooklyn\n",
       "4  40.741776 -74.001497                W 17 St & 8 Ave        1.0  Manhattan"
      ]
     },
     "execution_count": 28,
     "metadata": {},
     "output_type": "execute_result"
    }
   ],
   "source": [
    "borough.head()"
   ]
  },
  {
   "cell_type": "code",
   "execution_count": 29,
   "metadata": {},
   "outputs": [],
   "source": [
    "borough = borough.rename(columns = {'StationNam': 'start station name'})"
   ]
  },
  {
   "cell_type": "code",
   "execution_count": 30,
   "metadata": {},
   "outputs": [],
   "source": [
    "df_b = pd.merge(df, borough, on='start station name')\n"
   ]
  },
  {
   "cell_type": "code",
   "execution_count": 31,
   "metadata": {},
   "outputs": [
    {
     "data": {
      "text/plain": [
       "Index([u'tripduration', u'starttime', u'stoptime', u'start station id',\n",
       "       u'start station name', u'start station latitude',\n",
       "       u'start station longitude', u'end station id', u'end station name',\n",
       "       u'end station latitude', u'end station longitude', u'bikeid',\n",
       "       u'usertype', u'birth year', u'gender', u'date', u'hour', u'age',\n",
       "       u'Latitude', u'Longitude', u'boro_code', u'boro_name'],\n",
       "      dtype='object')"
      ]
     },
     "execution_count": 31,
     "metadata": {},
     "output_type": "execute_result"
    }
   ],
   "source": [
    "df_b.columns"
   ]
  },
  {
   "cell_type": "code",
   "execution_count": 32,
   "metadata": {},
   "outputs": [],
   "source": [
    "df_b = df_b.drop([u'starttime', u'stoptime', u'start station id',\n",
    "       u'start station name', u'start station latitude',\n",
    "       u'start station longitude', u'end station id', u'end station name',\n",
    "       u'end station latitude', u'end station longitude', u'bikeid',\n",
    "       u'usertype', u'birth year', u'gender', u'date', u'hour',\n",
    "       u'Latitude', u'Longitude', u'boro_code'], axis = 1)"
   ]
  },
  {
   "cell_type": "code",
   "execution_count": 33,
   "metadata": {
    "scrolled": true
   },
   "outputs": [
    {
     "name": "stderr",
     "output_type": "stream",
     "text": [
      "/usr/local/Anaconda3-5.0.0-Linux-x86_64/envs/PUI2016_Python2/lib/python2.7/site-packages/ipykernel/__main__.py:1: FutureWarning: sort(columns=....) is deprecated, use sort_values(by=.....)\n",
      "  if __name__ == '__main__':\n"
     ]
    },
    {
     "data": {
      "text/html": [
       "<div>\n",
       "<table border=\"1\" class=\"dataframe\">\n",
       "  <thead>\n",
       "    <tr style=\"text-align: right;\">\n",
       "      <th></th>\n",
       "      <th>tripduration</th>\n",
       "      <th>age</th>\n",
       "      <th>boro_name</th>\n",
       "    </tr>\n",
       "  </thead>\n",
       "  <tbody>\n",
       "    <tr>\n",
       "      <th>968207</th>\n",
       "      <td>160</td>\n",
       "      <td>45.0</td>\n",
       "      <td>Brooklyn</td>\n",
       "    </tr>\n",
       "    <tr>\n",
       "      <th>403351</th>\n",
       "      <td>1147</td>\n",
       "      <td>29.0</td>\n",
       "      <td>Brooklyn</td>\n",
       "    </tr>\n",
       "    <tr>\n",
       "      <th>403350</th>\n",
       "      <td>161</td>\n",
       "      <td>53.0</td>\n",
       "      <td>Brooklyn</td>\n",
       "    </tr>\n",
       "    <tr>\n",
       "      <th>403349</th>\n",
       "      <td>539</td>\n",
       "      <td>52.0</td>\n",
       "      <td>Brooklyn</td>\n",
       "    </tr>\n",
       "    <tr>\n",
       "      <th>403348</th>\n",
       "      <td>555</td>\n",
       "      <td>56.0</td>\n",
       "      <td>Brooklyn</td>\n",
       "    </tr>\n",
       "    <tr>\n",
       "      <th>403347</th>\n",
       "      <td>220</td>\n",
       "      <td>43.0</td>\n",
       "      <td>Brooklyn</td>\n",
       "    </tr>\n",
       "    <tr>\n",
       "      <th>403346</th>\n",
       "      <td>176</td>\n",
       "      <td>29.0</td>\n",
       "      <td>Brooklyn</td>\n",
       "    </tr>\n",
       "    <tr>\n",
       "      <th>403345</th>\n",
       "      <td>238</td>\n",
       "      <td>41.0</td>\n",
       "      <td>Brooklyn</td>\n",
       "    </tr>\n",
       "    <tr>\n",
       "      <th>403344</th>\n",
       "      <td>312</td>\n",
       "      <td>41.0</td>\n",
       "      <td>Brooklyn</td>\n",
       "    </tr>\n",
       "    <tr>\n",
       "      <th>403343</th>\n",
       "      <td>376</td>\n",
       "      <td>30.0</td>\n",
       "      <td>Brooklyn</td>\n",
       "    </tr>\n",
       "    <tr>\n",
       "      <th>403352</th>\n",
       "      <td>341</td>\n",
       "      <td>26.0</td>\n",
       "      <td>Brooklyn</td>\n",
       "    </tr>\n",
       "    <tr>\n",
       "      <th>403342</th>\n",
       "      <td>476</td>\n",
       "      <td>39.0</td>\n",
       "      <td>Brooklyn</td>\n",
       "    </tr>\n",
       "    <tr>\n",
       "      <th>403340</th>\n",
       "      <td>401</td>\n",
       "      <td>35.0</td>\n",
       "      <td>Brooklyn</td>\n",
       "    </tr>\n",
       "    <tr>\n",
       "      <th>403339</th>\n",
       "      <td>174</td>\n",
       "      <td>42.0</td>\n",
       "      <td>Brooklyn</td>\n",
       "    </tr>\n",
       "    <tr>\n",
       "      <th>403338</th>\n",
       "      <td>392</td>\n",
       "      <td>32.0</td>\n",
       "      <td>Brooklyn</td>\n",
       "    </tr>\n",
       "    <tr>\n",
       "      <th>403337</th>\n",
       "      <td>390</td>\n",
       "      <td>42.0</td>\n",
       "      <td>Brooklyn</td>\n",
       "    </tr>\n",
       "    <tr>\n",
       "      <th>403336</th>\n",
       "      <td>492</td>\n",
       "      <td>57.0</td>\n",
       "      <td>Brooklyn</td>\n",
       "    </tr>\n",
       "    <tr>\n",
       "      <th>403335</th>\n",
       "      <td>623</td>\n",
       "      <td>34.0</td>\n",
       "      <td>Brooklyn</td>\n",
       "    </tr>\n",
       "    <tr>\n",
       "      <th>403334</th>\n",
       "      <td>448</td>\n",
       "      <td>37.0</td>\n",
       "      <td>Brooklyn</td>\n",
       "    </tr>\n",
       "    <tr>\n",
       "      <th>403333</th>\n",
       "      <td>397</td>\n",
       "      <td>27.0</td>\n",
       "      <td>Brooklyn</td>\n",
       "    </tr>\n",
       "    <tr>\n",
       "      <th>403332</th>\n",
       "      <td>359</td>\n",
       "      <td>33.0</td>\n",
       "      <td>Brooklyn</td>\n",
       "    </tr>\n",
       "    <tr>\n",
       "      <th>403341</th>\n",
       "      <td>466</td>\n",
       "      <td>35.0</td>\n",
       "      <td>Brooklyn</td>\n",
       "    </tr>\n",
       "    <tr>\n",
       "      <th>403353</th>\n",
       "      <td>639</td>\n",
       "      <td>NaN</td>\n",
       "      <td>Brooklyn</td>\n",
       "    </tr>\n",
       "    <tr>\n",
       "      <th>403354</th>\n",
       "      <td>355</td>\n",
       "      <td>37.0</td>\n",
       "      <td>Brooklyn</td>\n",
       "    </tr>\n",
       "    <tr>\n",
       "      <th>403355</th>\n",
       "      <td>795</td>\n",
       "      <td>34.0</td>\n",
       "      <td>Brooklyn</td>\n",
       "    </tr>\n",
       "    <tr>\n",
       "      <th>844829</th>\n",
       "      <td>1164</td>\n",
       "      <td>35.0</td>\n",
       "      <td>Brooklyn</td>\n",
       "    </tr>\n",
       "    <tr>\n",
       "      <th>844828</th>\n",
       "      <td>432</td>\n",
       "      <td>31.0</td>\n",
       "      <td>Brooklyn</td>\n",
       "    </tr>\n",
       "    <tr>\n",
       "      <th>844827</th>\n",
       "      <td>390</td>\n",
       "      <td>34.0</td>\n",
       "      <td>Brooklyn</td>\n",
       "    </tr>\n",
       "    <tr>\n",
       "      <th>844826</th>\n",
       "      <td>1393</td>\n",
       "      <td>53.0</td>\n",
       "      <td>Brooklyn</td>\n",
       "    </tr>\n",
       "    <tr>\n",
       "      <th>844825</th>\n",
       "      <td>831</td>\n",
       "      <td>27.0</td>\n",
       "      <td>Brooklyn</td>\n",
       "    </tr>\n",
       "    <tr>\n",
       "      <th>...</th>\n",
       "      <td>...</td>\n",
       "      <td>...</td>\n",
       "      <td>...</td>\n",
       "    </tr>\n",
       "    <tr>\n",
       "      <th>433405</th>\n",
       "      <td>731</td>\n",
       "      <td>29.0</td>\n",
       "      <td>Manhattan</td>\n",
       "    </tr>\n",
       "    <tr>\n",
       "      <th>433404</th>\n",
       "      <td>592</td>\n",
       "      <td>51.0</td>\n",
       "      <td>Manhattan</td>\n",
       "    </tr>\n",
       "    <tr>\n",
       "      <th>433403</th>\n",
       "      <td>1071</td>\n",
       "      <td>47.0</td>\n",
       "      <td>Manhattan</td>\n",
       "    </tr>\n",
       "    <tr>\n",
       "      <th>433402</th>\n",
       "      <td>581</td>\n",
       "      <td>56.0</td>\n",
       "      <td>Manhattan</td>\n",
       "    </tr>\n",
       "    <tr>\n",
       "      <th>433401</th>\n",
       "      <td>643</td>\n",
       "      <td>58.0</td>\n",
       "      <td>Manhattan</td>\n",
       "    </tr>\n",
       "    <tr>\n",
       "      <th>433400</th>\n",
       "      <td>542</td>\n",
       "      <td>44.0</td>\n",
       "      <td>Manhattan</td>\n",
       "    </tr>\n",
       "    <tr>\n",
       "      <th>433399</th>\n",
       "      <td>571</td>\n",
       "      <td>NaN</td>\n",
       "      <td>Manhattan</td>\n",
       "    </tr>\n",
       "    <tr>\n",
       "      <th>433398</th>\n",
       "      <td>510</td>\n",
       "      <td>57.0</td>\n",
       "      <td>Manhattan</td>\n",
       "    </tr>\n",
       "    <tr>\n",
       "      <th>433413</th>\n",
       "      <td>397</td>\n",
       "      <td>17.0</td>\n",
       "      <td>Manhattan</td>\n",
       "    </tr>\n",
       "    <tr>\n",
       "      <th>433414</th>\n",
       "      <td>487</td>\n",
       "      <td>30.0</td>\n",
       "      <td>Manhattan</td>\n",
       "    </tr>\n",
       "    <tr>\n",
       "      <th>433415</th>\n",
       "      <td>9903</td>\n",
       "      <td>NaN</td>\n",
       "      <td>Manhattan</td>\n",
       "    </tr>\n",
       "    <tr>\n",
       "      <th>433416</th>\n",
       "      <td>1495</td>\n",
       "      <td>NaN</td>\n",
       "      <td>Manhattan</td>\n",
       "    </tr>\n",
       "    <tr>\n",
       "      <th>433432</th>\n",
       "      <td>276</td>\n",
       "      <td>39.0</td>\n",
       "      <td>Manhattan</td>\n",
       "    </tr>\n",
       "    <tr>\n",
       "      <th>433431</th>\n",
       "      <td>249</td>\n",
       "      <td>38.0</td>\n",
       "      <td>Manhattan</td>\n",
       "    </tr>\n",
       "    <tr>\n",
       "      <th>433430</th>\n",
       "      <td>722</td>\n",
       "      <td>34.0</td>\n",
       "      <td>Manhattan</td>\n",
       "    </tr>\n",
       "    <tr>\n",
       "      <th>433429</th>\n",
       "      <td>534</td>\n",
       "      <td>59.0</td>\n",
       "      <td>Manhattan</td>\n",
       "    </tr>\n",
       "    <tr>\n",
       "      <th>433428</th>\n",
       "      <td>225</td>\n",
       "      <td>44.0</td>\n",
       "      <td>Manhattan</td>\n",
       "    </tr>\n",
       "    <tr>\n",
       "      <th>433427</th>\n",
       "      <td>1109</td>\n",
       "      <td>45.0</td>\n",
       "      <td>Manhattan</td>\n",
       "    </tr>\n",
       "    <tr>\n",
       "      <th>433426</th>\n",
       "      <td>216</td>\n",
       "      <td>46.0</td>\n",
       "      <td>Manhattan</td>\n",
       "    </tr>\n",
       "    <tr>\n",
       "      <th>433434</th>\n",
       "      <td>787</td>\n",
       "      <td>26.0</td>\n",
       "      <td>Manhattan</td>\n",
       "    </tr>\n",
       "    <tr>\n",
       "      <th>433425</th>\n",
       "      <td>812</td>\n",
       "      <td>NaN</td>\n",
       "      <td>Manhattan</td>\n",
       "    </tr>\n",
       "    <tr>\n",
       "      <th>433423</th>\n",
       "      <td>777</td>\n",
       "      <td>33.0</td>\n",
       "      <td>Manhattan</td>\n",
       "    </tr>\n",
       "    <tr>\n",
       "      <th>433422</th>\n",
       "      <td>660</td>\n",
       "      <td>43.0</td>\n",
       "      <td>Manhattan</td>\n",
       "    </tr>\n",
       "    <tr>\n",
       "      <th>433421</th>\n",
       "      <td>271</td>\n",
       "      <td>35.0</td>\n",
       "      <td>Manhattan</td>\n",
       "    </tr>\n",
       "    <tr>\n",
       "      <th>433420</th>\n",
       "      <td>768</td>\n",
       "      <td>38.0</td>\n",
       "      <td>Manhattan</td>\n",
       "    </tr>\n",
       "    <tr>\n",
       "      <th>433419</th>\n",
       "      <td>1125</td>\n",
       "      <td>32.0</td>\n",
       "      <td>Manhattan</td>\n",
       "    </tr>\n",
       "    <tr>\n",
       "      <th>433418</th>\n",
       "      <td>1140</td>\n",
       "      <td>30.0</td>\n",
       "      <td>Manhattan</td>\n",
       "    </tr>\n",
       "    <tr>\n",
       "      <th>433417</th>\n",
       "      <td>1449</td>\n",
       "      <td>43.0</td>\n",
       "      <td>Manhattan</td>\n",
       "    </tr>\n",
       "    <tr>\n",
       "      <th>433424</th>\n",
       "      <td>712</td>\n",
       "      <td>32.0</td>\n",
       "      <td>Manhattan</td>\n",
       "    </tr>\n",
       "    <tr>\n",
       "      <th>1287942</th>\n",
       "      <td>715</td>\n",
       "      <td>21.0</td>\n",
       "      <td>Manhattan</td>\n",
       "    </tr>\n",
       "  </tbody>\n",
       "</table>\n",
       "<p>1287943 rows × 3 columns</p>\n",
       "</div>"
      ],
      "text/plain": [
       "         tripduration   age  boro_name\n",
       "968207            160  45.0   Brooklyn\n",
       "403351           1147  29.0   Brooklyn\n",
       "403350            161  53.0   Brooklyn\n",
       "403349            539  52.0   Brooklyn\n",
       "403348            555  56.0   Brooklyn\n",
       "403347            220  43.0   Brooklyn\n",
       "403346            176  29.0   Brooklyn\n",
       "403345            238  41.0   Brooklyn\n",
       "403344            312  41.0   Brooklyn\n",
       "403343            376  30.0   Brooklyn\n",
       "403352            341  26.0   Brooklyn\n",
       "403342            476  39.0   Brooklyn\n",
       "403340            401  35.0   Brooklyn\n",
       "403339            174  42.0   Brooklyn\n",
       "403338            392  32.0   Brooklyn\n",
       "403337            390  42.0   Brooklyn\n",
       "403336            492  57.0   Brooklyn\n",
       "403335            623  34.0   Brooklyn\n",
       "403334            448  37.0   Brooklyn\n",
       "403333            397  27.0   Brooklyn\n",
       "403332            359  33.0   Brooklyn\n",
       "403341            466  35.0   Brooklyn\n",
       "403353            639   NaN   Brooklyn\n",
       "403354            355  37.0   Brooklyn\n",
       "403355            795  34.0   Brooklyn\n",
       "844829           1164  35.0   Brooklyn\n",
       "844828            432  31.0   Brooklyn\n",
       "844827            390  34.0   Brooklyn\n",
       "844826           1393  53.0   Brooklyn\n",
       "844825            831  27.0   Brooklyn\n",
       "...               ...   ...        ...\n",
       "433405            731  29.0  Manhattan\n",
       "433404            592  51.0  Manhattan\n",
       "433403           1071  47.0  Manhattan\n",
       "433402            581  56.0  Manhattan\n",
       "433401            643  58.0  Manhattan\n",
       "433400            542  44.0  Manhattan\n",
       "433399            571   NaN  Manhattan\n",
       "433398            510  57.0  Manhattan\n",
       "433413            397  17.0  Manhattan\n",
       "433414            487  30.0  Manhattan\n",
       "433415           9903   NaN  Manhattan\n",
       "433416           1495   NaN  Manhattan\n",
       "433432            276  39.0  Manhattan\n",
       "433431            249  38.0  Manhattan\n",
       "433430            722  34.0  Manhattan\n",
       "433429            534  59.0  Manhattan\n",
       "433428            225  44.0  Manhattan\n",
       "433427           1109  45.0  Manhattan\n",
       "433426            216  46.0  Manhattan\n",
       "433434            787  26.0  Manhattan\n",
       "433425            812   NaN  Manhattan\n",
       "433423            777  33.0  Manhattan\n",
       "433422            660  43.0  Manhattan\n",
       "433421            271  35.0  Manhattan\n",
       "433420            768  38.0  Manhattan\n",
       "433419           1125  32.0  Manhattan\n",
       "433418           1140  30.0  Manhattan\n",
       "433417           1449  43.0  Manhattan\n",
       "433424            712  32.0  Manhattan\n",
       "1287942           715  21.0  Manhattan\n",
       "\n",
       "[1287943 rows x 3 columns]"
      ]
     },
     "execution_count": 33,
     "metadata": {},
     "output_type": "execute_result"
    }
   ],
   "source": [
    "df_b.sort(['boro_name'])"
   ]
  },
  {
   "cell_type": "code",
   "execution_count": 34,
   "metadata": {},
   "outputs": [
    {
     "data": {
      "text/html": [
       "<div>\n",
       "<table border=\"1\" class=\"dataframe\">\n",
       "  <thead>\n",
       "    <tr style=\"text-align: right;\">\n",
       "      <th></th>\n",
       "      <th>tripduration</th>\n",
       "      <th>age</th>\n",
       "      <th>boro_name</th>\n",
       "    </tr>\n",
       "  </thead>\n",
       "  <tbody>\n",
       "    <tr>\n",
       "      <th>0</th>\n",
       "      <td>801</td>\n",
       "      <td>37.0</td>\n",
       "      <td>Manhattan</td>\n",
       "    </tr>\n",
       "    <tr>\n",
       "      <th>1</th>\n",
       "      <td>783</td>\n",
       "      <td>29.0</td>\n",
       "      <td>Manhattan</td>\n",
       "    </tr>\n",
       "    <tr>\n",
       "      <th>2</th>\n",
       "      <td>551</td>\n",
       "      <td>41.0</td>\n",
       "      <td>Manhattan</td>\n",
       "    </tr>\n",
       "    <tr>\n",
       "      <th>3</th>\n",
       "      <td>575</td>\n",
       "      <td>34.0</td>\n",
       "      <td>Manhattan</td>\n",
       "    </tr>\n",
       "    <tr>\n",
       "      <th>4</th>\n",
       "      <td>853</td>\n",
       "      <td>30.0</td>\n",
       "      <td>Manhattan</td>\n",
       "    </tr>\n",
       "  </tbody>\n",
       "</table>\n",
       "</div>"
      ],
      "text/plain": [
       "   tripduration   age  boro_name\n",
       "0           801  37.0  Manhattan\n",
       "1           783  29.0  Manhattan\n",
       "2           551  41.0  Manhattan\n",
       "3           575  34.0  Manhattan\n",
       "4           853  30.0  Manhattan"
      ]
     },
     "execution_count": 34,
     "metadata": {},
     "output_type": "execute_result"
    }
   ],
   "source": [
    "Df_Manh = df_b.loc[(df_b['boro_name'] == 'Manhattan')]\n",
    "Df_Manh = Df_Manh.reset_index().iloc[:,1:]\n",
    "Df_Manh.dropna(inplace = True)\n",
    "Df_Manh.head()"
   ]
  },
  {
   "cell_type": "code",
   "execution_count": 35,
   "metadata": {},
   "outputs": [
    {
     "data": {
      "text/html": [
       "<div>\n",
       "<table border=\"1\" class=\"dataframe\">\n",
       "  <thead>\n",
       "    <tr style=\"text-align: right;\">\n",
       "      <th></th>\n",
       "      <th>tripduration</th>\n",
       "      <th>age</th>\n",
       "      <th>boro_name</th>\n",
       "    </tr>\n",
       "  </thead>\n",
       "  <tbody>\n",
       "    <tr>\n",
       "      <th>0</th>\n",
       "      <td>544</td>\n",
       "      <td>58.0</td>\n",
       "      <td>Brooklyn</td>\n",
       "    </tr>\n",
       "    <tr>\n",
       "      <th>1</th>\n",
       "      <td>175</td>\n",
       "      <td>35.0</td>\n",
       "      <td>Brooklyn</td>\n",
       "    </tr>\n",
       "    <tr>\n",
       "      <th>2</th>\n",
       "      <td>429</td>\n",
       "      <td>60.0</td>\n",
       "      <td>Brooklyn</td>\n",
       "    </tr>\n",
       "    <tr>\n",
       "      <th>3</th>\n",
       "      <td>264</td>\n",
       "      <td>36.0</td>\n",
       "      <td>Brooklyn</td>\n",
       "    </tr>\n",
       "    <tr>\n",
       "      <th>4</th>\n",
       "      <td>341</td>\n",
       "      <td>26.0</td>\n",
       "      <td>Brooklyn</td>\n",
       "    </tr>\n",
       "  </tbody>\n",
       "</table>\n",
       "</div>"
      ],
      "text/plain": [
       "   tripduration   age boro_name\n",
       "0           544  58.0  Brooklyn\n",
       "1           175  35.0  Brooklyn\n",
       "2           429  60.0  Brooklyn\n",
       "3           264  36.0  Brooklyn\n",
       "4           341  26.0  Brooklyn"
      ]
     },
     "execution_count": 35,
     "metadata": {},
     "output_type": "execute_result"
    }
   ],
   "source": [
    "Df_Bkly = df_b.loc[(df_b['boro_name'] == 'Brooklyn')]\n",
    "Df_Bkly = Df_Bkly.reset_index().iloc[:,1:]\n",
    "Df_Bkly.dropna(inplace = True)\n",
    "Df_Bkly.head()"
   ]
  },
  {
   "cell_type": "code",
   "execution_count": null,
   "metadata": {},
   "outputs": [],
   "source": []
  },
  {
   "cell_type": "markdown",
   "metadata": {},
   "source": [
    "### The above steps are linking borough name and citibike data based on the START station name. Then we cleaned the data for conducting the correlation.  \n"
   ]
  },
  {
   "cell_type": "markdown",
   "metadata": {},
   "source": []
  },
  {
   "cell_type": "markdown",
   "metadata": {},
   "source": [
    "### Plot the data in histograms"
   ]
  },
  {
   "cell_type": "code",
   "execution_count": 36,
   "metadata": {},
   "outputs": [
    {
     "data": {
      "image/png": "[encoded data removed]",
      "text/plain": [
       "<matplotlib.figure.Figure at 0x7ff8ad950410>"
      ]
     },
     "metadata": {},
     "output_type": "display_data"
    },
    {
     "data": {
      "image/png": "[encoded data removed]",
      "text/plain": [
       "<matplotlib.figure.Figure at 0x7ff86ded5250>"
      ]
     },
     "metadata": {},
     "output_type": "display_data"
    }
   ],
   "source": [
    "bins_2 = np.arange(10, 99, 5)\n",
    "MN = Df_Manh.age.groupby(pd.cut(Df_Manh.age, bins_2)).agg([count_nonzero]).plot(kind='bar',legend=False)\n",
    "MN.set_title(\"Manhattan riders\")\n",
    "BK = Df_Bkly.age.groupby(pd.cut(Df_Bkly.age, bins_2)).agg([count_nonzero]).plot(kind='bar',legend=False)\n",
    "BK.set_title(\"Brooklyn riders\");"
   ]
  },
  {
   "cell_type": "markdown",
   "metadata": {},
   "source": [
    "Figure3. This is a histogram of Manhattan/Brooklyn citibike rider age distribution. The raw data is from citibike 2015 Feb and Aug. We could see that the distribution of those Manhattan/Brooklyn rider age duration have similar positive skewed trend while the Brooklyn one is more concentrate near the axis. "
   ]
  },
  {
   "cell_type": "code",
   "execution_count": 37,
   "metadata": {},
   "outputs": [
    {
     "name": "stdout",
     "output_type": "stream",
     "text": [
      "          count_nonzero\n",
      "age                    \n",
      "(10, 15]       0.000000\n",
      "(15, 20]       0.000253\n",
      "(20, 25]       0.028327\n",
      "(25, 30]       0.021638\n",
      "(30, 35]       0.032058\n",
      "(35, 40]       0.067352\n",
      "(40, 45]       0.081383\n",
      "(45, 50]       0.066510\n",
      "(50, 55]       0.037355\n",
      "(55, 60]       0.015634\n",
      "(60, 65]       0.007581\n",
      "(65, 70]       0.002331\n",
      "(70, 75]       0.000415\n",
      "(75, 80]       0.000178\n",
      "(80, 85]       0.000039\n",
      "(85, 90]       0.000013\n",
      "(90, 95]       0.000000\n"
     ]
    },
    {
     "data": {
      "text/plain": [
       "<matplotlib.legend.Legend at 0x7ff8a20d8690>"
      ]
     },
     "execution_count": 37,
     "metadata": {},
     "output_type": "execute_result"
    },
    {
     "data": {
      "image/png": "[encoded data removed]",
      "text/plain": [
       "<matplotlib.figure.Figure at 0x7ff8a2a66b50>"
      ]
     },
     "metadata": {},
     "output_type": "display_data"
    }
   ],
   "source": [
    "agM = Df_Manh.age.groupby(pd.cut(Df_Manh.age, bins_2)).agg([count_nonzero]).cumsum()\n",
    "\n",
    "agB = Df_Bkly.age.groupby(pd.cut(Df_Bkly.age, bins_2)).agg([count_nonzero]).cumsum()\n",
    "\n",
    "print (np.abs(agM / agM.max() - agB / agB.max()))\n",
    "\n",
    "pl.plot(bins_2[:-1] + 5, agM / agM.max(), label = \"Manhattan\")\n",
    "pl.plot(bins_2[:-1] + 5, agB / agB.max(), label = \"Brooklyn\")\n",
    "pl.plot(bins_2[:-1] + 5, np.sqrt(agB / agB.max() - agM / agM.max())**2, 'k-',label = \"difference\")\n",
    "pl.xlabel(\"Age\")\n",
    "pl.ylabel(\"Normalized Cumulative Number\")\n",
    "pl.legend()"
   ]
  },
  {
   "cell_type": "markdown",
   "metadata": {},
   "source": [
    "Figure2. This chart shows the normalized Manhattan/Brooklyn citibike rider age cumulative distribution. It is clear that the difference between the distribution of them is generally very small. However, in the age range 30-50, there is a relative large difference between those two categories. "
   ]
  },
  {
   "cell_type": "markdown",
   "metadata": {},
   "source": [
    "#### Skeleton ipynb: \n",
    "\n",
    "\"They look similar! But the difference gets to 10%. If I wanted to code the KS test by hand I woud have everything I need: the normalized cumulative distributions can be subtracted from each other and the max distance can calculated.\n",
    "Notice that there may be NaN values you are gonna have to deal with! You can do that for example with a Boolean statementsuch as df.ageF[~np.isnan(df.ageF)] or you can use numpy functions that deal with Nan values: nansum, nanmean, nanstd...\n",
    "lets run the scipy KS test\""
   ]
  },
  {
   "cell_type": "markdown",
   "metadata": {},
   "source": [
    "###  2.1 KS test to compare 2 samples:"
   ]
  },
  {
   "cell_type": "code",
   "execution_count": 38,
   "metadata": {},
   "outputs": [
    {
     "name": "stdout",
     "output_type": "stream",
     "text": [
      "Ks_2sampResult(statistic=0.10363658760963446, pvalue=0.0)\n"
     ]
    }
   ],
   "source": [
    "ks_2 = scipy.stats.ks_2samp(Df_Manh.age, Df_Bkly.age)\n",
    "print (ks_2)"
   ]
  },
  {
   "cell_type": "markdown",
   "metadata": {},
   "source": [
    "### We got p-value = 0 which is smaller than 0.05. In this case, we COULD REJECT the Null hypothesis which is \"There is NO statistical difference in the age distribution of bikers in Manhattan and Brooklyn\""
   ]
  },
  {
   "cell_type": "markdown",
   "metadata": {},
   "source": [
    "## 2.2 Pearson's test for correlation"
   ]
  },
  {
   "cell_type": "markdown",
   "metadata": {},
   "source": [
    "### H0: There is NO correlation between age distribution of bikers in Manhattan and Brooklyn\n",
    "significance level α = 0.05"
   ]
  },
  {
   "cell_type": "code",
   "execution_count": 39,
   "metadata": {},
   "outputs": [],
   "source": [
    "# scipy.stats.pearsonr(x , y) x,y should be the same length\n",
    "len_min_2 = min(Df_Manh['age'].shape, Df_Bkly['age'].shape)\n",
    "len_min_2 = len_min_2[0]"
   ]
  },
  {
   "cell_type": "code",
   "execution_count": 42,
   "metadata": {},
   "outputs": [
    {
     "data": {
      "text/plain": [
       "(0.90923071952558199, 0.0)"
      ]
     },
     "execution_count": 42,
     "metadata": {},
     "output_type": "execute_result"
    }
   ],
   "source": [
    "MN_reduced = np.sort(Df_Manh['age'].sample(n = len_min_2, axis = 0))\n",
    "BK_reduced = np.sort(Df_Bkly['age'].sample(n = len_min_2, axis = 0))\n",
    "pearson = scipy.stats.pearsonr(Day_reduced,Night_reduced)\n",
    "pearson"
   ]
  },
  {
   "cell_type": "markdown",
   "metadata": {},
   "source": [
    "### The correlation coefficient of Pearson's test is 0.90923, which indicate a strong positive linear relationship. The p value is 0.0 and we could reject our null hypothesis. "
   ]
  },
  {
   "cell_type": "markdown",
   "metadata": {},
   "source": [
    "## 2.3 Spearman's test for correlation"
   ]
  },
  {
   "cell_type": "code",
   "execution_count": 43,
   "metadata": {},
   "outputs": [
    {
     "data": {
      "text/plain": [
       "SpearmanrResult(correlation=0.99895682596111068, pvalue=0.0)"
      ]
     },
     "execution_count": 43,
     "metadata": {},
     "output_type": "execute_result"
    }
   ],
   "source": [
    "# scipy.stats.spearmanr(a, b=None, axis=0, nan_policy='propagate')\n",
    "spearman = scipy.stats.spearmanr(MN_reduced,BK_reduced)\n",
    "spearman"
   ]
  },
  {
   "cell_type": "markdown",
   "metadata": {},
   "source": [
    "### The returned value is the correlation coefficient and the corresponding p-value. The correlation coefficient of Spearman's test almost 1, which indicate a strong positive linear relationship. The p value is 0.0 and we could reject our null hypothesis. "
   ]
  },
  {
   "cell_type": "code",
   "execution_count": null,
   "metadata": {},
   "outputs": [],
   "source": []
  }
 ],
 "metadata": {
  "kernelspec": {
   "display_name": "PUI2016_Python2",
   "language": "python",
   "name": "pui2016_python2"
  },
  "language_info": {
   "codemirror_mode": {
    "name": "ipython",
    "version": 2
   },
   "file_extension": ".py",
   "mimetype": "text/x-python",
   "name": "python",
   "nbconvert_exporter": "python",
   "pygments_lexer": "ipython2",
   "version": "2.7.12"
  }
 },
 "nbformat": 4,
 "nbformat_minor": 2
}
