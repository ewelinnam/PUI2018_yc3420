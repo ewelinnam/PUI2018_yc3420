{
 "cells": [
  {
   "cell_type": "markdown",
   "metadata": {},
   "source": [
    "### The first part is taken from Yunhe's HW4 assignment 2, revised according to the reviews from Haoming & Dr. Bianco. \n",
    "## This is the start of first part"
   ]
  },
  {
   "cell_type": "code",
   "execution_count": 1,
   "metadata": {},
   "outputs": [
    {
     "name": "stdout",
     "output_type": "stream",
     "text": [
      "Populating the interactive namespace from numpy and matplotlib\n"
     ]
    }
   ],
   "source": [
    "from __future__ import print_function, division\n",
    "import pylab as pl\n",
    "import pandas as pd\n",
    "import numpy as np\n",
    "import os\n",
    "import json\n",
    "\n",
    "%pylab inline\n",
    "\n"
   ]
  },
  {
   "cell_type": "code",
   "execution_count": 2,
   "metadata": {},
   "outputs": [
    {
     "name": "stdout",
     "output_type": "stream",
     "text": [
      "  % Total    % Received % Xferd  Average Speed   Time    Time     Time  Current\n",
      "                                 Dload  Upload   Total   Spent    Left  Speed\n",
      "100 4708k  100 4708k    0     0  15.8M      0 --:--:-- --:--:-- --:--:-- 15.8M\n",
      "  % Total    % Received % Xferd  Average Speed   Time    Time     Time  Current\n",
      "                                 Dload  Upload   Total   Spent    Left  Speed\n",
      "100 36.2M  100 36.2M    0     0  38.7M      0 --:--:-- --:--:-- --:--:-- 38.7M\n"
     ]
    }
   ],
   "source": [
    "#download 201503data from citibike\n",
    "!curl https://s3.amazonaws.com/tripdata/201502-citibike-tripdata.zip > 201502-citibike-tripdata.zip\n",
    "#download 201508data from citibike\n",
    "!curl https://s3.amazonaws.com/tripdata/201508-citibike-tripdata.zip > 201508-citibike-tripdata.zip\n"
   ]
  },
  {
   "cell_type": "code",
   "execution_count": 3,
   "metadata": {},
   "outputs": [
    {
     "name": "stdout",
     "output_type": "stream",
     "text": [
      "PUIDATA /nfshome/yc3420/PUIdata\n"
     ]
    }
   ],
   "source": [
    "#move the download data to PUI data (folder)\n",
    "print (\"PUIDATA\", os.getenv(\"PUIDATA\"))"
   ]
  },
  {
   "cell_type": "code",
   "execution_count": 4,
   "metadata": {},
   "outputs": [],
   "source": [
    "!mv 201502-citibike-tripdata.zip $PUIDATA\n",
    "!mv 201508-citibike-tripdata.zip $PUIDATA\n"
   ]
  },
  {
   "cell_type": "code",
   "execution_count": 5,
   "metadata": {},
   "outputs": [
    {
     "name": "stdout",
     "output_type": "stream",
     "text": [
      "1p\t\t\t\t      drinking_water_quaity.csv  rows.csv\r\n",
      "201502-citibike-tripdata.csv\t      GCT2801.csv\t\t solution3.csv\r\n",
      "201502-citibike-tripdata.zip\t      linkNYClocations.csv\t solution6.csv\r\n",
      "201503-citibike-tripdata.csv\t      nyc_pluto_18v1.zip\t solution.csv\r\n",
      "201503-citibike-tripdata.zip\t      Parks.csv\t\t\t time.csv\r\n",
      "201508-citibike-tripdata.csv\t      parkToPuma.csv\t\t ZIP\r\n",
      "201508-citibike-tripdata.zip\t      PLUTO_for_WEB\t\t ZIPCODE.gz\r\n",
      "ACS_16_1YR_GCT2801.ST50_with_ann.csv  PUMA\r\n",
      "borough.csv\t\t\t      PUMA.gz\r\n"
     ]
    }
   ],
   "source": [
    "!ls $PUIDATA"
   ]
  },
  {
   "cell_type": "code",
   "execution_count": 6,
   "metadata": {},
   "outputs": [
    {
     "name": "stdout",
     "output_type": "stream",
     "text": [
      "1p\t\t\t\t      drinking_water_quaity.csv  rows.csv\r\n",
      "201502-citibike-tripdata.csv\t      GCT2801.csv\t\t solution3.csv\r\n",
      "201502-citibike-tripdata.zip\t      linkNYClocations.csv\t solution6.csv\r\n",
      "201503-citibike-tripdata.csv\t      nyc_pluto_18v1.zip\t solution.csv\r\n",
      "201503-citibike-tripdata.zip\t      Parks.csv\t\t\t time.csv\r\n",
      "201508-citibike-tripdata.csv\t      parkToPuma.csv\t\t ZIP\r\n",
      "201508-citibike-tripdata.zip\t      PLUTO_for_WEB\t\t ZIPCODE.gz\r\n",
      "ACS_16_1YR_GCT2801.ST50_with_ann.csv  PUMA\r\n",
      "borough.csv\t\t\t      PUMA.gz\r\n"
     ]
    }
   ],
   "source": [
    "#unzip the data\n",
    "os.system(\"unzip \" + os.getenv(\"PUIDATA\") + \"/\" + \"201502\" + \"-citibike-tripdata.zip\")\n",
    "os.system(\"mv \" + \"201502\" + \"-citibike-tripdata.csv \" + os.getenv(\"PUIDATA\"))\n",
    "ctb1 = pd.read_csv(os.getenv(\"PUIDATA\") + \"/\" + \"201502\" + '-citibike-tripdata.csv')\n",
    "\n",
    "\n",
    "!ls $PUIDATA\n",
    "\n"
   ]
  },
  {
   "cell_type": "code",
   "execution_count": 7,
   "metadata": {},
   "outputs": [],
   "source": [
    "os.system(\"unzip \" + os.getenv(\"PUIDATA\") + \"/\" + \"201508\" + \"-citibike-tripdata.zip\")\n",
    "os.system(\"mv \" + \"201508\" + \"-citibike-tripdata.csv \" + os.getenv(\"PUIDATA\"))\n",
    "ctb2 = pd.read_csv(os.getenv(\"PUIDATA\") + \"/\" + \"201508\" + '-citibike-tripdata.csv')\n",
    "\n",
    "\n"
   ]
  },
  {
   "cell_type": "code",
   "execution_count": 8,
   "metadata": {},
   "outputs": [
    {
     "data": {
      "text/plain": [
       "(1179044, 15)"
      ]
     },
     "execution_count": 8,
     "metadata": {},
     "output_type": "execute_result"
    }
   ],
   "source": [
    "shape(ctb2)"
   ]
  },
  {
   "cell_type": "code",
   "execution_count": 9,
   "metadata": {},
   "outputs": [
    {
     "data": {
      "text/plain": [
       "(196930, 15)"
      ]
     },
     "execution_count": 9,
     "metadata": {},
     "output_type": "execute_result"
    }
   ],
   "source": [
    "shape(ctb1)"
   ]
  },
  {
   "cell_type": "markdown",
   "metadata": {},
   "source": [
    "## Idea: generally, women are more likely to riding longer than man in a single trip during the week\n",
    "## Null Hypothesis:  the average time of women biking during the week is the same or less than man biking \n",
    "## Alternative Hypothesis: the average time of women biking during week is higher than man biking \n",
    "$H_0$ : ${Wavgtime} <= {Mavgtime}$   \n",
    "\n",
    "$H_a$ : ${Wavgtime} > {Mavgtime}$  \n",
    "  \n",
    "significance level $\\alpha=0.05$\n",
    "\n",
    "## 'W' stand for women, 'M' stand for men. Sub 'avg' stand for the average time of riding during the week\n",
    "**(This is from Haoming's suggestion)**"
   ]
  },
  {
   "cell_type": "code",
   "execution_count": 10,
   "metadata": {},
   "outputs": [],
   "source": [
    "frames = [ctb1, ctb2]\n",
    "ctb = pd.concat(frames)"
   ]
  },
  {
   "cell_type": "code",
   "execution_count": 11,
   "metadata": {},
   "outputs": [
    {
     "data": {
      "text/html": [
       "<div>\n",
       "<table border=\"1\" class=\"dataframe\">\n",
       "  <thead>\n",
       "    <tr style=\"text-align: right;\">\n",
       "      <th></th>\n",
       "      <th>tripduration</th>\n",
       "      <th>starttime</th>\n",
       "      <th>stoptime</th>\n",
       "      <th>start station id</th>\n",
       "      <th>start station name</th>\n",
       "      <th>start station latitude</th>\n",
       "      <th>start station longitude</th>\n",
       "      <th>end station id</th>\n",
       "      <th>end station name</th>\n",
       "      <th>end station latitude</th>\n",
       "      <th>end station longitude</th>\n",
       "      <th>bikeid</th>\n",
       "      <th>usertype</th>\n",
       "      <th>birth year</th>\n",
       "      <th>gender</th>\n",
       "      <th>date</th>\n",
       "    </tr>\n",
       "  </thead>\n",
       "  <tbody>\n",
       "    <tr>\n",
       "      <th>0</th>\n",
       "      <td>801</td>\n",
       "      <td>2/1/2015 0:00</td>\n",
       "      <td>2/1/2015 0:14</td>\n",
       "      <td>521</td>\n",
       "      <td>8 Ave &amp; W 31 St</td>\n",
       "      <td>40.750450</td>\n",
       "      <td>-73.994811</td>\n",
       "      <td>423</td>\n",
       "      <td>W 54 St &amp; 9 Ave</td>\n",
       "      <td>40.765849</td>\n",
       "      <td>-73.986905</td>\n",
       "      <td>17131</td>\n",
       "      <td>Subscriber</td>\n",
       "      <td>1978.0</td>\n",
       "      <td>2</td>\n",
       "      <td>2015-02-01 00:00:00</td>\n",
       "    </tr>\n",
       "    <tr>\n",
       "      <th>1</th>\n",
       "      <td>379</td>\n",
       "      <td>2/1/2015 0:00</td>\n",
       "      <td>2/1/2015 0:07</td>\n",
       "      <td>497</td>\n",
       "      <td>E 17 St &amp; Broadway</td>\n",
       "      <td>40.737050</td>\n",
       "      <td>-73.990093</td>\n",
       "      <td>504</td>\n",
       "      <td>1 Ave &amp; E 15 St</td>\n",
       "      <td>40.732219</td>\n",
       "      <td>-73.981656</td>\n",
       "      <td>21289</td>\n",
       "      <td>Subscriber</td>\n",
       "      <td>1993.0</td>\n",
       "      <td>1</td>\n",
       "      <td>2015-02-01 00:00:00</td>\n",
       "    </tr>\n",
       "    <tr>\n",
       "      <th>2</th>\n",
       "      <td>2474</td>\n",
       "      <td>2/1/2015 0:01</td>\n",
       "      <td>2/1/2015 0:42</td>\n",
       "      <td>281</td>\n",
       "      <td>Grand Army Plaza &amp; Central Park S</td>\n",
       "      <td>40.764397</td>\n",
       "      <td>-73.973715</td>\n",
       "      <td>127</td>\n",
       "      <td>Barrow St &amp; Hudson St</td>\n",
       "      <td>40.731724</td>\n",
       "      <td>-74.006744</td>\n",
       "      <td>18903</td>\n",
       "      <td>Subscriber</td>\n",
       "      <td>1969.0</td>\n",
       "      <td>2</td>\n",
       "      <td>2015-02-01 00:01:00</td>\n",
       "    </tr>\n",
       "    <tr>\n",
       "      <th>3</th>\n",
       "      <td>818</td>\n",
       "      <td>2/1/2015 0:01</td>\n",
       "      <td>2/1/2015 0:15</td>\n",
       "      <td>2004</td>\n",
       "      <td>6 Ave &amp; Broome St</td>\n",
       "      <td>40.724399</td>\n",
       "      <td>-74.004704</td>\n",
       "      <td>505</td>\n",
       "      <td>6 Ave &amp; W 33 St</td>\n",
       "      <td>40.749013</td>\n",
       "      <td>-73.988484</td>\n",
       "      <td>21044</td>\n",
       "      <td>Subscriber</td>\n",
       "      <td>1985.0</td>\n",
       "      <td>2</td>\n",
       "      <td>2015-02-01 00:01:00</td>\n",
       "    </tr>\n",
       "    <tr>\n",
       "      <th>4</th>\n",
       "      <td>544</td>\n",
       "      <td>2/1/2015 0:01</td>\n",
       "      <td>2/1/2015 0:10</td>\n",
       "      <td>323</td>\n",
       "      <td>Lawrence St &amp; Willoughby St</td>\n",
       "      <td>40.692362</td>\n",
       "      <td>-73.986317</td>\n",
       "      <td>83</td>\n",
       "      <td>Atlantic Ave &amp; Fort Greene Pl</td>\n",
       "      <td>40.683826</td>\n",
       "      <td>-73.976323</td>\n",
       "      <td>19868</td>\n",
       "      <td>Subscriber</td>\n",
       "      <td>1957.0</td>\n",
       "      <td>1</td>\n",
       "      <td>2015-02-01 00:01:00</td>\n",
       "    </tr>\n",
       "  </tbody>\n",
       "</table>\n",
       "</div>"
      ],
      "text/plain": [
       "   tripduration      starttime       stoptime  start station id  \\\n",
       "0           801  2/1/2015 0:00  2/1/2015 0:14               521   \n",
       "1           379  2/1/2015 0:00  2/1/2015 0:07               497   \n",
       "2          2474  2/1/2015 0:01  2/1/2015 0:42               281   \n",
       "3           818  2/1/2015 0:01  2/1/2015 0:15              2004   \n",
       "4           544  2/1/2015 0:01  2/1/2015 0:10               323   \n",
       "\n",
       "                  start station name  start station latitude  \\\n",
       "0                    8 Ave & W 31 St               40.750450   \n",
       "1                 E 17 St & Broadway               40.737050   \n",
       "2  Grand Army Plaza & Central Park S               40.764397   \n",
       "3                  6 Ave & Broome St               40.724399   \n",
       "4        Lawrence St & Willoughby St               40.692362   \n",
       "\n",
       "   start station longitude  end station id               end station name  \\\n",
       "0               -73.994811             423                W 54 St & 9 Ave   \n",
       "1               -73.990093             504                1 Ave & E 15 St   \n",
       "2               -73.973715             127          Barrow St & Hudson St   \n",
       "3               -74.004704             505                6 Ave & W 33 St   \n",
       "4               -73.986317              83  Atlantic Ave & Fort Greene Pl   \n",
       "\n",
       "   end station latitude  end station longitude  bikeid    usertype  \\\n",
       "0             40.765849             -73.986905   17131  Subscriber   \n",
       "1             40.732219             -73.981656   21289  Subscriber   \n",
       "2             40.731724             -74.006744   18903  Subscriber   \n",
       "3             40.749013             -73.988484   21044  Subscriber   \n",
       "4             40.683826             -73.976323   19868  Subscriber   \n",
       "\n",
       "   birth year  gender                date  \n",
       "0      1978.0       2 2015-02-01 00:00:00  \n",
       "1      1993.0       1 2015-02-01 00:00:00  \n",
       "2      1969.0       2 2015-02-01 00:01:00  \n",
       "3      1985.0       2 2015-02-01 00:01:00  \n",
       "4      1957.0       1 2015-02-01 00:01:00  "
      ]
     },
     "execution_count": 11,
     "metadata": {},
     "output_type": "execute_result"
    }
   ],
   "source": [
    "#\n",
    "ctb['date'] = pd.to_datetime(ctb['starttime'])\n",
    "ctb.head()"
   ]
  },
  {
   "cell_type": "code",
   "execution_count": 12,
   "metadata": {},
   "outputs": [],
   "source": [
    "ctb = ctb.reset_index()"
   ]
  },
  {
   "cell_type": "code",
   "execution_count": 13,
   "metadata": {},
   "outputs": [
    {
     "data": {
      "text/html": [
       "<div>\n",
       "<table border=\"1\" class=\"dataframe\">\n",
       "  <thead>\n",
       "    <tr style=\"text-align: right;\">\n",
       "      <th></th>\n",
       "      <th>index</th>\n",
       "      <th>tripduration</th>\n",
       "      <th>starttime</th>\n",
       "      <th>stoptime</th>\n",
       "      <th>start station id</th>\n",
       "      <th>start station name</th>\n",
       "      <th>start station latitude</th>\n",
       "      <th>start station longitude</th>\n",
       "      <th>end station id</th>\n",
       "      <th>end station name</th>\n",
       "      <th>end station latitude</th>\n",
       "      <th>end station longitude</th>\n",
       "      <th>bikeid</th>\n",
       "      <th>usertype</th>\n",
       "      <th>birth year</th>\n",
       "      <th>gender</th>\n",
       "      <th>date</th>\n",
       "    </tr>\n",
       "  </thead>\n",
       "  <tbody>\n",
       "    <tr>\n",
       "      <th>1375969</th>\n",
       "      <td>1179039</td>\n",
       "      <td>423</td>\n",
       "      <td>8/31/2015 23:58:43</td>\n",
       "      <td>9/1/2015 00:05:47</td>\n",
       "      <td>3119</td>\n",
       "      <td>Vernon Blvd &amp; 50 Ave</td>\n",
       "      <td>40.742327</td>\n",
       "      <td>-73.954117</td>\n",
       "      <td>3118</td>\n",
       "      <td>McGuinness Blvd &amp; Eagle St</td>\n",
       "      <td>40.735550</td>\n",
       "      <td>-73.952840</td>\n",
       "      <td>18686</td>\n",
       "      <td>Subscriber</td>\n",
       "      <td>1988.0</td>\n",
       "      <td>1</td>\n",
       "      <td>2015-08-31 23:58:43</td>\n",
       "    </tr>\n",
       "    <tr>\n",
       "      <th>1375970</th>\n",
       "      <td>1179040</td>\n",
       "      <td>1021</td>\n",
       "      <td>8/31/2015 23:58:54</td>\n",
       "      <td>9/1/2015 00:15:56</td>\n",
       "      <td>518</td>\n",
       "      <td>E 39 St &amp; 2 Ave</td>\n",
       "      <td>40.747804</td>\n",
       "      <td>-73.973442</td>\n",
       "      <td>348</td>\n",
       "      <td>W Broadway &amp; Spring St</td>\n",
       "      <td>40.724910</td>\n",
       "      <td>-74.001547</td>\n",
       "      <td>23487</td>\n",
       "      <td>Subscriber</td>\n",
       "      <td>1970.0</td>\n",
       "      <td>1</td>\n",
       "      <td>2015-08-31 23:58:54</td>\n",
       "    </tr>\n",
       "    <tr>\n",
       "      <th>1375971</th>\n",
       "      <td>1179041</td>\n",
       "      <td>1896</td>\n",
       "      <td>8/31/2015 23:59:11</td>\n",
       "      <td>9/1/2015 00:30:47</td>\n",
       "      <td>336</td>\n",
       "      <td>Sullivan St &amp; Washington Sq</td>\n",
       "      <td>40.730477</td>\n",
       "      <td>-73.999061</td>\n",
       "      <td>83</td>\n",
       "      <td>Atlantic Ave &amp; Fort Greene Pl</td>\n",
       "      <td>40.683826</td>\n",
       "      <td>-73.976323</td>\n",
       "      <td>23509</td>\n",
       "      <td>Subscriber</td>\n",
       "      <td>1982.0</td>\n",
       "      <td>1</td>\n",
       "      <td>2015-08-31 23:59:11</td>\n",
       "    </tr>\n",
       "    <tr>\n",
       "      <th>1375972</th>\n",
       "      <td>1179042</td>\n",
       "      <td>826</td>\n",
       "      <td>8/31/2015 23:59:16</td>\n",
       "      <td>9/1/2015 00:13:02</td>\n",
       "      <td>3075</td>\n",
       "      <td>Division Ave &amp; Marcy Ave</td>\n",
       "      <td>40.707087</td>\n",
       "      <td>-73.957968</td>\n",
       "      <td>364</td>\n",
       "      <td>Lafayette Ave &amp; Classon Ave</td>\n",
       "      <td>40.689004</td>\n",
       "      <td>-73.960239</td>\n",
       "      <td>15405</td>\n",
       "      <td>Customer</td>\n",
       "      <td>NaN</td>\n",
       "      <td>0</td>\n",
       "      <td>2015-08-31 23:59:16</td>\n",
       "    </tr>\n",
       "    <tr>\n",
       "      <th>1375973</th>\n",
       "      <td>1179043</td>\n",
       "      <td>105</td>\n",
       "      <td>8/31/2015 23:59:41</td>\n",
       "      <td>9/1/2015 00:01:26</td>\n",
       "      <td>476</td>\n",
       "      <td>E 31 St &amp; 3 Ave</td>\n",
       "      <td>40.743943</td>\n",
       "      <td>-73.979661</td>\n",
       "      <td>546</td>\n",
       "      <td>E 30 St &amp; Park Ave S</td>\n",
       "      <td>40.744449</td>\n",
       "      <td>-73.983035</td>\n",
       "      <td>23947</td>\n",
       "      <td>Subscriber</td>\n",
       "      <td>1975.0</td>\n",
       "      <td>1</td>\n",
       "      <td>2015-08-31 23:59:41</td>\n",
       "    </tr>\n",
       "  </tbody>\n",
       "</table>\n",
       "</div>"
      ],
      "text/plain": [
       "           index  tripduration           starttime           stoptime  \\\n",
       "1375969  1179039           423  8/31/2015 23:58:43  9/1/2015 00:05:47   \n",
       "1375970  1179040          1021  8/31/2015 23:58:54  9/1/2015 00:15:56   \n",
       "1375971  1179041          1896  8/31/2015 23:59:11  9/1/2015 00:30:47   \n",
       "1375972  1179042           826  8/31/2015 23:59:16  9/1/2015 00:13:02   \n",
       "1375973  1179043           105  8/31/2015 23:59:41  9/1/2015 00:01:26   \n",
       "\n",
       "         start station id           start station name  \\\n",
       "1375969              3119         Vernon Blvd & 50 Ave   \n",
       "1375970               518              E 39 St & 2 Ave   \n",
       "1375971               336  Sullivan St & Washington Sq   \n",
       "1375972              3075     Division Ave & Marcy Ave   \n",
       "1375973               476              E 31 St & 3 Ave   \n",
       "\n",
       "         start station latitude  start station longitude  end station id  \\\n",
       "1375969               40.742327               -73.954117            3118   \n",
       "1375970               40.747804               -73.973442             348   \n",
       "1375971               40.730477               -73.999061              83   \n",
       "1375972               40.707087               -73.957968             364   \n",
       "1375973               40.743943               -73.979661             546   \n",
       "\n",
       "                      end station name  end station latitude  \\\n",
       "1375969     McGuinness Blvd & Eagle St             40.735550   \n",
       "1375970         W Broadway & Spring St             40.724910   \n",
       "1375971  Atlantic Ave & Fort Greene Pl             40.683826   \n",
       "1375972    Lafayette Ave & Classon Ave             40.689004   \n",
       "1375973           E 30 St & Park Ave S             40.744449   \n",
       "\n",
       "         end station longitude  bikeid    usertype  birth year  gender  \\\n",
       "1375969             -73.952840   18686  Subscriber      1988.0       1   \n",
       "1375970             -74.001547   23487  Subscriber      1970.0       1   \n",
       "1375971             -73.976323   23509  Subscriber      1982.0       1   \n",
       "1375972             -73.960239   15405    Customer         NaN       0   \n",
       "1375973             -73.983035   23947  Subscriber      1975.0       1   \n",
       "\n",
       "                       date  \n",
       "1375969 2015-08-31 23:58:43  \n",
       "1375970 2015-08-31 23:58:54  \n",
       "1375971 2015-08-31 23:59:11  \n",
       "1375972 2015-08-31 23:59:16  \n",
       "1375973 2015-08-31 23:59:41  "
      ]
     },
     "execution_count": 13,
     "metadata": {},
     "output_type": "execute_result"
    }
   ],
   "source": [
    "ctb.tail()"
   ]
  },
  {
   "cell_type": "code",
   "execution_count": 14,
   "metadata": {},
   "outputs": [
    {
     "data": {
      "text/plain": [
       "Index([u'index', u'tripduration', u'starttime', u'stoptime',\n",
       "       u'start station id', u'start station name', u'start station latitude',\n",
       "       u'start station longitude', u'end station id', u'end station name',\n",
       "       u'end station latitude', u'end station longitude', u'bikeid',\n",
       "       u'usertype', u'birth year', u'gender', u'date'],\n",
       "      dtype='object')"
      ]
     },
     "execution_count": 14,
     "metadata": {},
     "output_type": "execute_result"
    }
   ],
   "source": [
    "ctb.columns"
   ]
  },
  {
   "cell_type": "code",
   "execution_count": 15,
   "metadata": {},
   "outputs": [],
   "source": [
    "ctb.drop([ 'starttime', 'stoptime', 'start station id',\n",
    "       'start station name', 'start station latitude',\n",
    "       'start station longitude', 'end station id', 'end station name',\n",
    "       'end station latitude', 'end station longitude', 'bikeid', 'usertype',\n",
    "       'birth year','index'], axis=1, inplace=True)"
   ]
  },
  {
   "cell_type": "code",
   "execution_count": 16,
   "metadata": {},
   "outputs": [
    {
     "data": {
      "text/html": [
       "<div>\n",
       "<table border=\"1\" class=\"dataframe\">\n",
       "  <thead>\n",
       "    <tr style=\"text-align: right;\">\n",
       "      <th></th>\n",
       "      <th>tripduration</th>\n",
       "      <th>gender</th>\n",
       "      <th>date</th>\n",
       "    </tr>\n",
       "  </thead>\n",
       "  <tbody>\n",
       "    <tr>\n",
       "      <th>0</th>\n",
       "      <td>801</td>\n",
       "      <td>2</td>\n",
       "      <td>2015-02-01 00:00:00</td>\n",
       "    </tr>\n",
       "    <tr>\n",
       "      <th>1</th>\n",
       "      <td>379</td>\n",
       "      <td>1</td>\n",
       "      <td>2015-02-01 00:00:00</td>\n",
       "    </tr>\n",
       "    <tr>\n",
       "      <th>2</th>\n",
       "      <td>2474</td>\n",
       "      <td>2</td>\n",
       "      <td>2015-02-01 00:01:00</td>\n",
       "    </tr>\n",
       "    <tr>\n",
       "      <th>3</th>\n",
       "      <td>818</td>\n",
       "      <td>2</td>\n",
       "      <td>2015-02-01 00:01:00</td>\n",
       "    </tr>\n",
       "    <tr>\n",
       "      <th>4</th>\n",
       "      <td>544</td>\n",
       "      <td>1</td>\n",
       "      <td>2015-02-01 00:01:00</td>\n",
       "    </tr>\n",
       "  </tbody>\n",
       "</table>\n",
       "</div>"
      ],
      "text/plain": [
       "   tripduration  gender                date\n",
       "0           801       2 2015-02-01 00:00:00\n",
       "1           379       1 2015-02-01 00:00:00\n",
       "2          2474       2 2015-02-01 00:01:00\n",
       "3           818       2 2015-02-01 00:01:00\n",
       "4           544       1 2015-02-01 00:01:00"
      ]
     },
     "execution_count": 16,
     "metadata": {},
     "output_type": "execute_result"
    }
   ],
   "source": [
    "ctb.head()"
   ]
  },
  {
   "cell_type": "markdown",
   "metadata": {},
   "source": [
    "### Figure 1a. Distribution of single ride time length by gender in March 2015, absolute values"
   ]
  },
  {
   "cell_type": "code",
   "execution_count": 17,
   "metadata": {
    "scrolled": false
   },
   "outputs": [
    {
     "data": {
      "text/plain": [
       "<matplotlib.text.Text at 0x7f1f23f91a90>"
      ]
     },
     "execution_count": 17,
     "metadata": {},
     "output_type": "execute_result"
    },
    {
     "data": {
      "image/png": "[encoded data removed]",
      "text/plain": [
       "<matplotlib.figure.Figure at 0x7f1f23fdfd50>"
      ]
     },
     "metadata": {},
     "output_type": "display_data"
    }
   ],
   "source": [
    "#Distribution of citibike users by gender in March 2015, absolute values\n",
    "#gender == 1 is male, gender ==2 is female\n",
    "#separate males with females\n",
    "fig = pl.figure(figsize(15,10))\n",
    "\n",
    "\n",
    "norm_w = 1\n",
    "axis = ((ctb['tripduration'][ctb['gender'] == 2].groupby([ctb['date'].dt.weekday]).mean()) / norm_w).plot(kind=\"bar\",color='DarkOrange', label='female')\n",
    "\n",
    "norm_m = 1\n",
    "axis = ((ctb['tripduration'][ctb['gender'] == 1].groupby([ctb['date'].dt.weekday]).mean()) / norm_m).plot(kind=\"bar\",color='Red', alpha=0.5,label='male')\n",
    "\n",
    "\n",
    "tmp = axis.xaxis.set_ticklabels(['Mon', 'Tue', 'Wed', 'Thu', 'Fri', 'Sat', 'Sun'], fontsize=20)\n",
    "\n",
    "\n",
    "\n",
    "pl.legend(fontsize = 25)\n",
    "text1 = 'Figure 1a. This plot shows the time length contrast of male and female citibike riders. '\n",
    "pl.text(-1,-300,text1,fontsize = 20)\n",
    "pl.xlabel('Day of the week',fontsize = 25)\n",
    "pl.ylabel('Time length of rides', fontsize = 25)"
   ]
  },
  {
   "cell_type": "code",
   "execution_count": null,
   "metadata": {},
   "outputs": [],
   "source": []
  },
  {
   "cell_type": "code",
   "execution_count": null,
   "metadata": {},
   "outputs": [],
   "source": []
  },
  {
   "cell_type": "code",
   "execution_count": null,
   "metadata": {},
   "outputs": [],
   "source": []
  },
  {
   "cell_type": "markdown",
   "metadata": {},
   "source": [
    "## Here we add two bar charts for male and female riders separately. Incorporate with Haoming's advise."
   ]
  },
  {
   "cell_type": "code",
   "execution_count": 18,
   "metadata": {},
   "outputs": [
    {
     "data": {
      "text/plain": [
       "<matplotlib.text.Text at 0x7f1f23e14490>"
      ]
     },
     "execution_count": 18,
     "metadata": {},
     "output_type": "execute_result"
    },
    {
     "data": {
      "image/png": "[encoded data removed]",
      "text/plain": [
       "<matplotlib.figure.Figure at 0x7f1f23e8bfd0>"
      ]
     },
     "metadata": {},
     "output_type": "display_data"
    }
   ],
   "source": [
    "#Distribution of citibike users by gender in March 2015, absolute values\n",
    "#gender == 1 is male, gender ==2 is female\n",
    "#separate males with females\n",
    "fig = pl.figure(figsize(15,10))\n",
    "\n",
    "\n",
    "norm_m = 1\n",
    "axis = ((ctb['tripduration'][ctb['gender'] == 1].groupby([ctb['date'].dt.weekday]).mean()) / norm_m).plot(kind=\"bar\",color='Red', alpha=0.5,label='male')\n",
    "\n",
    "\n",
    "tmp = axis.xaxis.set_ticklabels(['Mon', 'Tue', 'Wed', 'Thu', 'Fri', 'Sat', 'Sun'], fontsize=20)\n",
    "\n",
    "\n",
    "\n",
    "pl.legend(fontsize = 25)\n",
    "text1 = 'Figure 1-1 . This plot shows the time length of male citibike riders. '\n",
    "pl.text(-1,-300,text1,fontsize = 20)\n",
    "pl.xlabel('Day of the week',fontsize = 25)\n",
    "pl.ylabel('Time length of rides', fontsize = 25)"
   ]
  },
  {
   "cell_type": "code",
   "execution_count": 19,
   "metadata": {},
   "outputs": [
    {
     "data": {
      "text/plain": [
       "<matplotlib.text.Text at 0x7f1f23e14950>"
      ]
     },
     "execution_count": 19,
     "metadata": {},
     "output_type": "execute_result"
    },
    {
     "data": {
      "image/png": "[encoded data removed]",
      "text/plain": [
       "<matplotlib.figure.Figure at 0x7f1f23d03c10>"
      ]
     },
     "metadata": {},
     "output_type": "display_data"
    }
   ],
   "source": [
    "#Distribution of citibike users by gender in March 2015, absolute values\n",
    "#gender == 1 is male, gender ==2 is female\n",
    "#separate males with females\n",
    "fig = pl.figure(figsize(15,10))\n",
    "\n",
    "\n",
    "norm_w = 1\n",
    "axis = ((ctb['tripduration'][ctb['gender'] == 2].groupby([ctb['date'].dt.weekday]).mean()) / norm_w).plot(kind=\"bar\",color='DarkOrange', alpha=0.5,label='female')\n",
    "\n",
    "\n",
    "tmp = axis.xaxis.set_ticklabels(['Mon', 'Tue', 'Wed', 'Thu', 'Fri', 'Sat', 'Sun'], fontsize=20)\n",
    "\n",
    "\n",
    "\n",
    "pl.legend(fontsize = 25)\n",
    "text1 = 'Figure 1-2 . This plot shows the time length of female citibike riders. '\n",
    "pl.text(-1,-300,text1,fontsize = 20)\n",
    "pl.xlabel('Day of the week',fontsize = 25)\n",
    "pl.ylabel('Time length of rides', fontsize = 25)"
   ]
  },
  {
   "cell_type": "markdown",
   "metadata": {},
   "source": [
    "### Figure 1b. Distribution of single ride time length by gender in March 2015, absolute values, WITH stat errors\n",
    "#### the distribution in this situation follows a Poisson distribution"
   ]
  },
  {
   "cell_type": "code",
   "execution_count": 20,
   "metadata": {},
   "outputs": [
    {
     "data": {
      "text/plain": [
       "<matplotlib.text.Text at 0x7f1f23c05bd0>"
      ]
     },
     "execution_count": 20,
     "metadata": {},
     "output_type": "execute_result"
    },
    {
     "data": {
      "image/png": "[encoded data removed]",
      "text/plain": [
       "<matplotlib.figure.Figure at 0x7f1f23e02410>"
      ]
     },
     "metadata": {},
     "output_type": "display_data"
    }
   ],
   "source": [
    "fig=pl.figure(figsize(15,10))\n",
    "\n",
    "\n",
    "mean_w = ctb['tripduration'][ctb['gender'] == 2].groupby([ctb['date'].dt.weekday]).mean()\n",
    "norm_w = 1\n",
    "error_w = np.sqrt(mean_w)\n",
    "axis=((mean_w) / norm_w).plot(kind=\"bar\",color='DarkOrange',  yerr=[\n",
    "            ((error_w) / norm_w, (error_w) / norm_w)], label='women bikers')\n",
    "\n",
    "\n",
    "mean_m = ctb['tripduration'][ctb['gender'] == 1].groupby([ctb['date'].dt.weekday]).mean()\n",
    "norm_m = 1\n",
    "error_m=np.sqrt(mean_m)\n",
    "((mean_m) / norm_m).plot(kind=\"bar\", alpha=0.5, yerr=[((error_m) / norm_m, (error_m) / norm_m)], \n",
    "                           color='Red', label='men bikers')\n",
    "\n",
    "\n",
    "axis.xaxis.set_ticklabels(['Mon','Tue','Wed','Thu','Fri','Sat','Sun'], fontsize=20)\n",
    "axis.set_ylabel (\"Number of rides\")\n",
    "axis.set_xlabel (\"Day of the week\")\n",
    "pl.legend(['female','male'],fontsize=20)\n",
    "text2 = 'Figure 1b. This plot shows the time length contrast of male and female citibike riders. The stat error is also shown in the chart'\n",
    "pl.text(-1,-400,text2,fontsize = 20)\n",
    "pl.xlabel('Day of the week',fontsize = 25)\n",
    "pl.ylabel('Number of rides', fontsize = 25)"
   ]
  },
  {
   "cell_type": "code",
   "execution_count": null,
   "metadata": {},
   "outputs": [],
   "source": []
  },
  {
   "cell_type": "markdown",
   "metadata": {},
   "source": [
    "## This is the end of first part"
   ]
  },
  {
   "cell_type": "code",
   "execution_count": null,
   "metadata": {},
   "outputs": [],
   "source": []
  },
  {
   "cell_type": "markdown",
   "metadata": {},
   "source": [
    "## This the the start of the second part\n",
    "## This part follows the instruction given by Dr. Bianco in github\n",
    "  \n",
    "## Here I will conduct z-test for this question.  The reason is that since there are two samples and we do not know the population variance. Therefore, we could choose from t or z. However, the sample size is larger than 30 which indicate t-test might not be appropriate for this question. "
   ]
  },
  {
   "cell_type": "code",
   "execution_count": 21,
   "metadata": {},
   "outputs": [],
   "source": [
    "p = lambda p0, p1, n0, n1: (p0 * n0 + p1 * n1) / (n0 + n1)\n",
    "se = lambda p, n0, n1: np.sqrt(p * (1 - p) * (1.0 / n0 + 1.0 / n1)) #standard error\n",
    "zscore = lambda p0, p1, s : (p0 - p1) / s\n"
   ]
  },
  {
   "cell_type": "code",
   "execution_count": 22,
   "metadata": {},
   "outputs": [],
   "source": [
    "counts_w = ctb.date[ctb.gender == 2].count()\n",
    "counts_m = ctb.date[ctb.gender == 1].count()\n",
    "pw = counts_w / len(ctb)\n",
    "pm = counts_m / len(ctb)\n"
   ]
  },
  {
   "cell_type": "code",
   "execution_count": 23,
   "metadata": {},
   "outputs": [
    {
     "name": "stdout",
     "output_type": "stream",
     "text": [
      "0.00109812074519\n",
      "The z statistics is -405.85\n"
     ]
    }
   ],
   "source": [
    "sp_stdev_mw = se(p(pw, pm, counts_w, counts_m), counts_w, counts_m)\n",
    "print (sp_stdev_mw)\n",
    "z_fm = zscore(pw, pm, sp_stdev_mw)\n",
    "print (\"The z statistics is %.2f\"%z_fm)"
   ]
  },
  {
   "cell_type": "markdown",
   "metadata": {},
   "source": [
    "**Since the abosolute value of z test is 405.85 which is larger than 1.64 (z value for p = 0.05), we could reject null hypothesis which is the average time of women biking during the week is the same or less than man biking **  \n",
    "\n",
    "\n",
    "### Final conclusion: from the hypothesis testing presented above, we could say that generally, women are more likely to riding longer than man in a single trip during the week "
   ]
  },
  {
   "cell_type": "markdown",
   "metadata": {},
   "source": [
    "### Further discussions: In further researches, we could take season/year variation into consideration to remove some systematic errors. "
   ]
  },
  {
   "cell_type": "code",
   "execution_count": null,
   "metadata": {},
   "outputs": [],
   "source": []
  }
 ],
 "metadata": {
  "kernelspec": {
   "display_name": "PUI2016_Python2",
   "language": "python",
   "name": "pui2016_python2"
  },
  "language_info": {
   "codemirror_mode": {
    "name": "ipython",
    "version": 2
   },
   "file_extension": ".py",
   "mimetype": "text/x-python",
   "name": "python",
   "nbconvert_exporter": "python",
   "pygments_lexer": "ipython2",
   "version": "2.7.12"
  }
 },
 "nbformat": 4,
 "nbformat_minor": 2
}
