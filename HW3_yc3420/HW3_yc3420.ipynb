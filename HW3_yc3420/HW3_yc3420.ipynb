{
 "cells": [
  {
   "cell_type": "markdown",
   "metadata": {},
   "source": [
    "# Solution 1"
   ]
  },
  {
   "cell_type": "code",
   "execution_count": 1,
   "metadata": {},
   "outputs": [],
   "source": [
    "from __future__ import print_function\n",
    "import matplotlib.pylab as plt\n",
    "import os \n",
    "import pandas as pd"
   ]
  },
  {
   "cell_type": "code",
   "execution_count": 2,
   "metadata": {},
   "outputs": [
    {
     "name": "stdout",
     "output_type": "stream",
     "text": [
      "  % Total    % Received % Xferd  Average Speed   Time    Time     Time  Current\n",
      "                                 Dload  Upload   Total   Spent    Left  Speed\n",
      "100 6404k    0 6404k    0     0  2298k      0 --:--:--  0:00:02 --:--:-- 2297k\n"
     ]
    }
   ],
   "source": [
    "!curl https://data.cityofnewyork.us/api/views/bkwf-xfky/rows.csv?accessType=DOWNLOAD > drinking_water_quaity.csv"
   ]
  },
  {
   "cell_type": "code",
   "execution_count": 3,
   "metadata": {},
   "outputs": [
    {
     "name": "stdout",
     "output_type": "stream",
     "text": [
      "PUIDATA /nfshome/yc3420/PUIdata\n"
     ]
    }
   ],
   "source": [
    "#move the download data to PUI data\n",
    "print (\"PUIDATA\", os.getenv(\"PUIDATA\"))"
   ]
  },
  {
   "cell_type": "code",
   "execution_count": 4,
   "metadata": {},
   "outputs": [],
   "source": [
    "!mv drinking_water_quaity.csv $PUIDATA"
   ]
  },
  {
   "cell_type": "code",
   "execution_count": 5,
   "metadata": {},
   "outputs": [
    {
     "name": "stdout",
     "output_type": "stream",
     "text": [
      "drinking_water_quaity.csv\r\n"
     ]
    }
   ],
   "source": [
    "!ls $PUIDATA"
   ]
  },
  {
   "cell_type": "code",
   "execution_count": 6,
   "metadata": {},
   "outputs": [],
   "source": [
    "\n",
    "dwq = pd.read_csv(\"%s/drinking_water_quaity.csv\"%os.getenv(\"PUIDATA\"))\n"
   ]
  },
  {
   "cell_type": "code",
   "execution_count": 7,
   "metadata": {},
   "outputs": [
    {
     "data": {
      "text/html": [
       "<div>\n",
       "<table border=\"1\" class=\"dataframe\">\n",
       "  <thead>\n",
       "    <tr style=\"text-align: right;\">\n",
       "      <th></th>\n",
       "      <th>Sample Number</th>\n",
       "      <th>Sample Date</th>\n",
       "      <th>Sample Time</th>\n",
       "      <th>Sample Site</th>\n",
       "      <th>Sample class</th>\n",
       "      <th>Location</th>\n",
       "      <th>Residual Free Chlorine (mg/L)</th>\n",
       "      <th>Turbidity (NTU)</th>\n",
       "      <th>Fluoride (mg/L)</th>\n",
       "      <th>Coliform (Quanti-Tray) (MPN /100mL)</th>\n",
       "      <th>E.coli(Quanti-Tray) (MPN/100mL)</th>\n",
       "    </tr>\n",
       "  </thead>\n",
       "  <tbody>\n",
       "    <tr>\n",
       "      <th>0</th>\n",
       "      <td>NaN</td>\n",
       "      <td>01/01/2015</td>\n",
       "      <td>12:19</td>\n",
       "      <td>1S07</td>\n",
       "      <td>Operational</td>\n",
       "      <td>SS - Shaft 7 of City Tunnel No. 1 - W/S Sedgwi...</td>\n",
       "      <td>0.58</td>\n",
       "      <td>0.96</td>\n",
       "      <td>0.79</td>\n",
       "      <td>&lt;1</td>\n",
       "      <td>&lt;1</td>\n",
       "    </tr>\n",
       "    <tr>\n",
       "      <th>1</th>\n",
       "      <td>NaN</td>\n",
       "      <td>01/01/2015</td>\n",
       "      <td>11:15</td>\n",
       "      <td>1S04</td>\n",
       "      <td>Operational</td>\n",
       "      <td>SS - Shaft 4 of City Tunnel No.1 - IFO 2780 Re...</td>\n",
       "      <td>0.71</td>\n",
       "      <td>0.94</td>\n",
       "      <td>0.80</td>\n",
       "      <td>&lt;1</td>\n",
       "      <td>&lt;1</td>\n",
       "    </tr>\n",
       "    <tr>\n",
       "      <th>2</th>\n",
       "      <td>NaN</td>\n",
       "      <td>01/01/2015</td>\n",
       "      <td>10:09</td>\n",
       "      <td>1S03A</td>\n",
       "      <td>Operational</td>\n",
       "      <td>SS - Shaft 3A of City Tunnel No. 2 - IFO 823 S...</td>\n",
       "      <td>0.79</td>\n",
       "      <td>0.93</td>\n",
       "      <td>0.79</td>\n",
       "      <td>&lt;1</td>\n",
       "      <td>&lt;1</td>\n",
       "    </tr>\n",
       "    <tr>\n",
       "      <th>3</th>\n",
       "      <td>NaN</td>\n",
       "      <td>01/01/2015</td>\n",
       "      <td>10:41</td>\n",
       "      <td>1S03B</td>\n",
       "      <td>Operational</td>\n",
       "      <td>SS - Shaft 3B of City Tunnel No. 3 - Mosholu A...</td>\n",
       "      <td>0.77</td>\n",
       "      <td>0.93</td>\n",
       "      <td>0.80</td>\n",
       "      <td>&lt;1</td>\n",
       "      <td>&lt;1</td>\n",
       "    </tr>\n",
       "    <tr>\n",
       "      <th>4</th>\n",
       "      <td>NaN</td>\n",
       "      <td>01/01/2015</td>\n",
       "      <td>09:38</td>\n",
       "      <td>11550</td>\n",
       "      <td>Compliance</td>\n",
       "      <td>SS - IFO 1058 S/S E Gun Hill Rd, 1st SS E/O Ho...</td>\n",
       "      <td>0.74</td>\n",
       "      <td>0.95</td>\n",
       "      <td>NaN</td>\n",
       "      <td>&lt;1</td>\n",
       "      <td>&lt;1</td>\n",
       "    </tr>\n",
       "    <tr>\n",
       "      <th>5</th>\n",
       "      <td>NaN</td>\n",
       "      <td>01/01/2015</td>\n",
       "      <td>08:41</td>\n",
       "      <td>13850</td>\n",
       "      <td>Compliance</td>\n",
       "      <td>SS - IFO 1778 E/S Jerome Ave, 1st SS S/O E 176...</td>\n",
       "      <td>0.59</td>\n",
       "      <td>1.08</td>\n",
       "      <td>NaN</td>\n",
       "      <td>&lt;1</td>\n",
       "      <td>&lt;1</td>\n",
       "    </tr>\n",
       "    <tr>\n",
       "      <th>6</th>\n",
       "      <td>NaN</td>\n",
       "      <td>01/01/2015</td>\n",
       "      <td>09:07</td>\n",
       "      <td>15550</td>\n",
       "      <td>Compliance</td>\n",
       "      <td>SS - IFO 2499 W/S Grand Ave, 1st SS S/O W 190t...</td>\n",
       "      <td>0.54</td>\n",
       "      <td>0.90</td>\n",
       "      <td>NaN</td>\n",
       "      <td>&lt;1</td>\n",
       "      <td>&lt;1</td>\n",
       "    </tr>\n",
       "  </tbody>\n",
       "</table>\n",
       "</div>"
      ],
      "text/plain": [
       "   Sample Number Sample Date Sample Time Sample Site Sample class  \\\n",
       "0            NaN  01/01/2015       12:19        1S07  Operational   \n",
       "1            NaN  01/01/2015       11:15        1S04  Operational   \n",
       "2            NaN  01/01/2015       10:09       1S03A  Operational   \n",
       "3            NaN  01/01/2015       10:41       1S03B  Operational   \n",
       "4            NaN  01/01/2015       09:38       11550   Compliance   \n",
       "5            NaN  01/01/2015       08:41       13850   Compliance   \n",
       "6            NaN  01/01/2015       09:07       15550   Compliance   \n",
       "\n",
       "                                            Location  \\\n",
       "0  SS - Shaft 7 of City Tunnel No. 1 - W/S Sedgwi...   \n",
       "1  SS - Shaft 4 of City Tunnel No.1 - IFO 2780 Re...   \n",
       "2  SS - Shaft 3A of City Tunnel No. 2 - IFO 823 S...   \n",
       "3  SS - Shaft 3B of City Tunnel No. 3 - Mosholu A...   \n",
       "4  SS - IFO 1058 S/S E Gun Hill Rd, 1st SS E/O Ho...   \n",
       "5  SS - IFO 1778 E/S Jerome Ave, 1st SS S/O E 176...   \n",
       "6  SS - IFO 2499 W/S Grand Ave, 1st SS S/O W 190t...   \n",
       "\n",
       "   Residual Free Chlorine (mg/L)  Turbidity (NTU)  Fluoride (mg/L)  \\\n",
       "0                           0.58             0.96             0.79   \n",
       "1                           0.71             0.94             0.80   \n",
       "2                           0.79             0.93             0.79   \n",
       "3                           0.77             0.93             0.80   \n",
       "4                           0.74             0.95              NaN   \n",
       "5                           0.59             1.08              NaN   \n",
       "6                           0.54             0.90              NaN   \n",
       "\n",
       "  Coliform (Quanti-Tray) (MPN /100mL) E.coli(Quanti-Tray) (MPN/100mL)  \n",
       "0                                 <1                              <1   \n",
       "1                                 <1                              <1   \n",
       "2                                 <1                              <1   \n",
       "3                                 <1                              <1   \n",
       "4                                 <1                              <1   \n",
       "5                                 <1                              <1   \n",
       "6                                 <1                              <1   "
      ]
     },
     "execution_count": 7,
     "metadata": {},
     "output_type": "execute_result"
    }
   ],
   "source": [
    "#print the first 8 lines\n",
    "dwq.head(7)"
   ]
  },
  {
   "cell_type": "code",
   "execution_count": 8,
   "metadata": {
    "scrolled": true
   },
   "outputs": [
    {
     "data": {
      "text/html": [
       "<div>\n",
       "<table border=\"1\" class=\"dataframe\">\n",
       "  <thead>\n",
       "    <tr style=\"text-align: right;\">\n",
       "      <th></th>\n",
       "      <th>Sample Number</th>\n",
       "      <th>Sample Date</th>\n",
       "      <th>Sample Time</th>\n",
       "      <th>Sample Site</th>\n",
       "      <th>Sample class</th>\n",
       "      <th>Location</th>\n",
       "      <th>Residual Free Chlorine (mg/L)</th>\n",
       "      <th>Turbidity (NTU)</th>\n",
       "      <th>Fluoride (mg/L)</th>\n",
       "      <th>Coliform (Quanti-Tray) (MPN /100mL)</th>\n",
       "      <th>E.coli(Quanti-Tray) (MPN/100mL)</th>\n",
       "    </tr>\n",
       "  </thead>\n",
       "  <tbody>\n",
       "    <tr>\n",
       "      <th>54089</th>\n",
       "      <td>26396.0</td>\n",
       "      <td>08/31/2018</td>\n",
       "      <td>08:24</td>\n",
       "      <td>1SCL1</td>\n",
       "      <td>Operational</td>\n",
       "      <td>Jerome Park Reservoir (W205th St &amp; Goulden Ave...</td>\n",
       "      <td>0.77</td>\n",
       "      <td>0.70</td>\n",
       "      <td>0.72</td>\n",
       "      <td>&lt;1</td>\n",
       "      <td>&lt;1</td>\n",
       "    </tr>\n",
       "    <tr>\n",
       "      <th>54090</th>\n",
       "      <td>26397.0</td>\n",
       "      <td>08/31/2018</td>\n",
       "      <td>09:53</td>\n",
       "      <td>33100</td>\n",
       "      <td>Operational</td>\n",
       "      <td>SS - E/S Dyckman St, 1st SS S/O 10th Ave (IFO ...</td>\n",
       "      <td>0.76</td>\n",
       "      <td>0.67</td>\n",
       "      <td>NaN</td>\n",
       "      <td>&lt;1</td>\n",
       "      <td>&lt;1</td>\n",
       "    </tr>\n",
       "    <tr>\n",
       "      <th>54091</th>\n",
       "      <td>26398.0</td>\n",
       "      <td>08/31/2018</td>\n",
       "      <td>10:24</td>\n",
       "      <td>3SC26</td>\n",
       "      <td>Operational</td>\n",
       "      <td>Shaft 26 of New Croton Aqueduct, 179th St Pump...</td>\n",
       "      <td>0.79</td>\n",
       "      <td>0.68</td>\n",
       "      <td>NaN</td>\n",
       "      <td>&lt;1</td>\n",
       "      <td>&lt;1</td>\n",
       "    </tr>\n",
       "  </tbody>\n",
       "</table>\n",
       "</div>"
      ],
      "text/plain": [
       "       Sample Number Sample Date Sample Time Sample Site Sample class  \\\n",
       "54089        26396.0  08/31/2018       08:24       1SCL1  Operational   \n",
       "54090        26397.0  08/31/2018       09:53       33100  Operational   \n",
       "54091        26398.0  08/31/2018       10:24       3SC26  Operational   \n",
       "\n",
       "                                                Location  \\\n",
       "54089  Jerome Park Reservoir (W205th St & Goulden Ave...   \n",
       "54090  SS - E/S Dyckman St, 1st SS S/O 10th Ave (IFO ...   \n",
       "54091  Shaft 26 of New Croton Aqueduct, 179th St Pump...   \n",
       "\n",
       "       Residual Free Chlorine (mg/L)  Turbidity (NTU)  Fluoride (mg/L)  \\\n",
       "54089                           0.77             0.70             0.72   \n",
       "54090                           0.76             0.67              NaN   \n",
       "54091                           0.79             0.68              NaN   \n",
       "\n",
       "      Coliform (Quanti-Tray) (MPN /100mL) E.coli(Quanti-Tray) (MPN/100mL)  \n",
       "54089                                 <1                              <1   \n",
       "54090                                 <1                              <1   \n",
       "54091                                 <1                              <1   "
      ]
     },
     "execution_count": 8,
     "metadata": {},
     "output_type": "execute_result"
    }
   ],
   "source": [
    "#print the last 3 lines out\n",
    "dwq.tail(3)"
   ]
  },
  {
   "cell_type": "code",
   "execution_count": 9,
   "metadata": {},
   "outputs": [
    {
     "data": {
      "text/plain": [
       "Index([u'Sample Number', u'Sample Date', u'Sample Time', u'Sample Site',\n",
       "       u'Sample class', u'Location', u'Residual Free Chlorine (mg/L)',\n",
       "       u'Turbidity (NTU)', u'Fluoride (mg/L)',\n",
       "       u'Coliform (Quanti-Tray) (MPN /100mL)',\n",
       "       u'E.coli(Quanti-Tray) (MPN/100mL)'],\n",
       "      dtype='object')"
      ]
     },
     "execution_count": 9,
     "metadata": {},
     "output_type": "execute_result"
    }
   ],
   "source": [
    "#look at the columns available, those are the variables\n",
    "dwq = dwq.astype(str)\n",
    "dwq.columns"
   ]
  },
  {
   "cell_type": "code",
   "execution_count": 10,
   "metadata": {},
   "outputs": [
    {
     "data": {
      "text/plain": [
       "595012"
      ]
     },
     "execution_count": 10,
     "metadata": {},
     "output_type": "execute_result"
    }
   ],
   "source": [
    "#count how many rows\n",
    "dwq.size"
   ]
  },
  {
   "cell_type": "code",
   "execution_count": 11,
   "metadata": {},
   "outputs": [],
   "source": [
    "#select 2 columns only for plotting\n",
    "dwq_2c = dwq[['Turbidity (NTU)','Residual Free Chlorine (mg/L)']]"
   ]
  },
  {
   "cell_type": "code",
   "execution_count": 15,
   "metadata": {},
   "outputs": [
    {
     "data": {
      "text/html": [
       "<div>\n",
       "<table border=\"1\" class=\"dataframe\">\n",
       "  <thead>\n",
       "    <tr style=\"text-align: right;\">\n",
       "      <th></th>\n",
       "      <th>Turbidity (NTU)</th>\n",
       "      <th>Residual Free Chlorine (mg/L)</th>\n",
       "    </tr>\n",
       "  </thead>\n",
       "  <tbody>\n",
       "    <tr>\n",
       "      <th>0</th>\n",
       "      <td>0.96</td>\n",
       "      <td>0.58</td>\n",
       "    </tr>\n",
       "    <tr>\n",
       "      <th>1</th>\n",
       "      <td>0.94</td>\n",
       "      <td>0.71</td>\n",
       "    </tr>\n",
       "    <tr>\n",
       "      <th>2</th>\n",
       "      <td>0.93</td>\n",
       "      <td>0.79</td>\n",
       "    </tr>\n",
       "    <tr>\n",
       "      <th>3</th>\n",
       "      <td>0.93</td>\n",
       "      <td>0.77</td>\n",
       "    </tr>\n",
       "    <tr>\n",
       "      <th>4</th>\n",
       "      <td>0.95</td>\n",
       "      <td>0.74</td>\n",
       "    </tr>\n",
       "  </tbody>\n",
       "</table>\n",
       "</div>"
      ],
      "text/plain": [
       "  Turbidity (NTU) Residual Free Chlorine (mg/L)\n",
       "0            0.96                          0.58\n",
       "1            0.94                          0.71\n",
       "2            0.93                          0.79\n",
       "3            0.93                          0.77\n",
       "4            0.95                          0.74"
      ]
     },
     "execution_count": 15,
     "metadata": {},
     "output_type": "execute_result"
    }
   ],
   "source": [
    "dwq_2c.head()"
   ]
  },
  {
   "cell_type": "code",
   "execution_count": 27,
   "metadata": {},
   "outputs": [
    {
     "name": "stdout",
     "output_type": "stream",
     "text": [
      "Populating the interactive namespace from numpy and matplotlib\n"
     ]
    },
    {
     "name": "stderr",
     "output_type": "stream",
     "text": [
      "/usr/local/Anaconda3-5.0.0-Linux-x86_64/envs/PUI2016_Python2/lib/python2.7/site-packages/ipykernel/__main__.py:2: SettingWithCopyWarning: \n",
      "A value is trying to be set on a copy of a slice from a DataFrame.\n",
      "Try using .loc[row_indexer,col_indexer] = value instead\n",
      "\n",
      "See the caveats in the documentation: http://pandas.pydata.org/pandas-docs/stable/indexing.html#indexing-view-versus-copy\n",
      "  from ipykernel import kernelapp as app\n",
      "/usr/local/Anaconda3-5.0.0-Linux-x86_64/envs/PUI2016_Python2/lib/python2.7/site-packages/ipykernel/__main__.py:3: SettingWithCopyWarning: \n",
      "A value is trying to be set on a copy of a slice from a DataFrame.\n",
      "Try using .loc[row_indexer,col_indexer] = value instead\n",
      "\n",
      "See the caveats in the documentation: http://pandas.pydata.org/pandas-docs/stable/indexing.html#indexing-view-versus-copy\n",
      "  app.launch_new_instance()\n"
     ]
    },
    {
     "data": {
      "image/png": "[encoded data removed]",
      "text/plain": [
       "<matplotlib.figure.Figure at 0x7f0870a38050>"
      ]
     },
     "metadata": {},
     "output_type": "display_data"
    }
   ],
   "source": [
    "%pylab inline\n",
    "dwq_2c['Turbidity (NTU)'] = dwq_2c['Turbidity (NTU)'].astype('float')\n",
    "dwq_2c['Residual Free Chlorine (mg/L)'] = dwq_2c['Residual Free Chlorine (mg/L)'].astype('float')\n",
    "dwq_2c.plot(x = 'Turbidity (NTU)', y = 'Residual Free Chlorine (mg/L)',kind='scatter')\n",
    "plt.title(\"Residual Free Chlorine vs Turbidity\")\n",
    "plt.xlabel(\"Turbidity (NTU)\")\n",
    "plt.ylabel(\"Residual Free Chlorine (mg/L)\")\n",
    "plt.legend()\n",
    "caption=\"Figure 1: residual free chlorine against turbidity as reported by Department \\\n",
    "of Environmental \\nProtection (DEP) between 01/01/2015 and 08/31/2018.The two variables \\\n",
    "do not show a strong\\n correlation. Note that most of the data points are in the 0-2 (NTU) range\\\n",
    "of turbidity and 0-1 (mg/L) range \\nof residual free chlorine.\"\n",
    "plt.figtext(0.1, -0.25, caption, wrap=True, horizontalalignment='left', fontsize=12)\n",
    "plt.show()"
   ]
  },
  {
   "cell_type": "markdown",
   "metadata": {},
   "source": [
    "# Solution 2"
   ]
  },
  {
   "cell_type": "code",
   "execution_count": null,
   "metadata": {},
   "outputs": [],
   "source": []
  }
 ],
 "metadata": {
  "kernelspec": {
   "display_name": "Python 2",
   "language": "python",
   "name": "python2"
  },
  "language_info": {
   "codemirror_mode": {
    "name": "ipython",
    "version": 2
   },
   "file_extension": ".py",
   "mimetype": "text/x-python",
   "name": "python",
   "nbconvert_exporter": "python",
   "pygments_lexer": "ipython2",
   "version": "2.7.15"
  }
 },
 "nbformat": 4,
 "nbformat_minor": 2
}
